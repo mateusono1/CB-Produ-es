{
 "cells": [
  {
   "cell_type": "code",
   "execution_count": 1,
   "metadata": {},
   "outputs": [],
   "source": [
    "import pandas as pd\n",
    "import requests\n",
    "import json\n",
    "import matplotlib.pyplot as plt\n",
    "import seaborn as sns\n",
    "import numpy as np\n",
    "import time"
   ]
  },
  {
   "cell_type": "code",
   "execution_count": 2,
   "metadata": {},
   "outputs": [],
   "source": [
    "pd.set_option('display.max_columns', None)"
   ]
  },
  {
   "cell_type": "code",
   "execution_count": 3,
   "metadata": {},
   "outputs": [
    {
     "data": {
      "text/plain": [
       "' import requests\\n\\n# Your API credentials and URL\\napi_url = \"https://api.zigcore.com.br/integration\"\\ntoken = \"hlqFYMUrmLX9NGTd07jC5ZjxLRKsOfqh\"\\n\\n# Define headers for the request\\nheaders = {\\n    \"Authorization\": f\"{token}\",\\n    \"Content-Type\": \"application/json\"\\n}\\n\\n# Making a GET request to the API to verify login\\nresponse = requests.get(api_url, headers=headers)\\n\\n# Checking the response status code and the response data\\nif response.status_code == 200:\\n    print(\"Login successful!\")\\n    print(response.json())  # Print response data which may include more details\\nelse:\\n    print(f\"Login failed with status code {response.status_code}\")\\n    print(response.text)  # Print the error response '"
      ]
     },
     "execution_count": 3,
     "metadata": {},
     "output_type": "execute_result"
    }
   ],
   "source": [
    "\"\"\" import requests\n",
    "\n",
    "# Your API credentials and URL\n",
    "api_url = \"https://api.zigcore.com.br/integration\"\n",
    "token = \"hlqFYMUrmLX9NGTd07jC5ZjxLRKsOfqh\"\n",
    "\n",
    "# Define headers for the request\n",
    "headers = {\n",
    "    \"Authorization\": f\"{token}\",\n",
    "    \"Content-Type\": \"application/json\"\n",
    "}\n",
    "\n",
    "# Making a GET request to the API to verify login\n",
    "response = requests.get(api_url, headers=headers)\n",
    "\n",
    "# Checking the response status code and the response data\n",
    "if response.status_code == 200:\n",
    "    print(\"Login successful!\")\n",
    "    print(response.json())  # Print response data which may include more details\n",
    "else:\n",
    "    print(f\"Login failed with status code {response.status_code}\")\n",
    "    print(response.text)  # Print the error response \"\"\""
   ]
  },
  {
   "cell_type": "code",
   "execution_count": 4,
   "metadata": {},
   "outputs": [
    {
     "data": {
      "text/plain": [
       "' # Tardezinha\\nimport requests\\n\\napi_url = \"https://api.zigcore.com.br/integration\"\\nrede = \"6385fff0-2ef9-421e-a0d8-497223f639e8\"\\ntoken = \"wAfg8jrWPnpEjG6qTPo3EjAzyuTjhrMB\"\\n\\n\\nheaders = {\\n    \"Authorization\": f\"{token}\"\\n}\\n\\n\\nresponse = requests.get(f\"{api_url}/erp/lojas?rede={rede}\", headers=headers)\\n\\nprint(f\"{api_url}?rede={rede}\")\\n\\n# Check response\\nif response.status_code == 200:\\n    stores = response.json()  \\n    print(\"Stores:\", stores)\\nelse:\\n    print(\"Failed to fetch stores:\", response.status_code, response.text) '"
      ]
     },
     "execution_count": 4,
     "metadata": {},
     "output_type": "execute_result"
    }
   ],
   "source": [
    "\"\"\" # Tardezinha\n",
    "import requests\n",
    "\n",
    "api_url = \"https://api.zigcore.com.br/integration\"\n",
    "rede = \"6385fff0-2ef9-421e-a0d8-497223f639e8\"\n",
    "token = \"wAfg8jrWPnpEjG6qTPo3EjAzyuTjhrMB\"\n",
    "\n",
    "\n",
    "headers = {\n",
    "    \"Authorization\": f\"{token}\"\n",
    "}\n",
    "\n",
    "\n",
    "response = requests.get(f\"{api_url}/erp/lojas?rede={rede}\", headers=headers)\n",
    "\n",
    "print(f\"{api_url}?rede={rede}\")\n",
    "\n",
    "# Check response\n",
    "if response.status_code == 200:\n",
    "    stores = response.json()  \n",
    "    print(\"Stores:\", stores)\n",
    "else:\n",
    "    print(\"Failed to fetch stores:\", response.status_code, response.text) \"\"\""
   ]
  },
  {
   "cell_type": "code",
   "execution_count": 5,
   "metadata": {},
   "outputs": [
    {
     "data": {
      "text/plain": [
       "' \\n# Tardezinha Ribeirão Preto 2 de dezembro de 2023\\n\\n\\n\\n\\n\\n\\napi_url = \"https://api.zigcore.com.br/integration/erp/saida-produtos\"\\ntoken = \"wAfg8jrWPnpEjG6qTPo3EjAzyuTjhrMB\" #Token novo. Funcionou para puxar as lojas\\n\\nparams = {\\n    \\'dtinicio\\': \\'2023-12-01\\',\\n    \\'dtfim\\': \\'2023-12-10\\',\\n    \\'loja\\': \\'a08c4832-1e70-435b-ad01-6a4d41dc5785\\', #ID da Tardezinha RBP 2023\\n    \\'refund\\': \\'false\\'\\n}\\n\\n\\nheaders = {\\n    \"Authorization\": f\"{token}\",\\n    \"Content-Type\": \"application/json\"\\n}\\n\\n\\nresponse = requests.get(api_url, headers=headers, params=params)\\n\\n#df=pd.DataFrame(response.json())\\nresponse.json() '"
      ]
     },
     "execution_count": 5,
     "metadata": {},
     "output_type": "execute_result"
    }
   ],
   "source": [
    "\"\"\" \n",
    "# Tardezinha Ribeirão Preto 2 de dezembro de 2023\n",
    "\n",
    "\n",
    "\n",
    "\n",
    "\n",
    "\n",
    "api_url = \"https://api.zigcore.com.br/integration/erp/saida-produtos\"\n",
    "token = \"wAfg8jrWPnpEjG6qTPo3EjAzyuTjhrMB\" #Token novo. Funcionou para puxar as lojas\n",
    "\n",
    "params = {\n",
    "    'dtinicio': '2023-12-01',\n",
    "    'dtfim': '2023-12-10',\n",
    "    'loja': 'a08c4832-1e70-435b-ad01-6a4d41dc5785', #ID da Tardezinha RBP 2023\n",
    "    'refund': 'false'\n",
    "}\n",
    "\n",
    "\n",
    "headers = {\n",
    "    \"Authorization\": f\"{token}\",\n",
    "    \"Content-Type\": \"application/json\"\n",
    "}\n",
    "\n",
    "\n",
    "response = requests.get(api_url, headers=headers, params=params)\n",
    "\n",
    "#df=pd.DataFrame(response.json())\n",
    "response.json() \"\"\""
   ]
  },
  {
   "cell_type": "code",
   "execution_count": 6,
   "metadata": {},
   "outputs": [
    {
     "data": {
      "text/plain": [
       "' df=pd.DataFrame(response.json())\\ndf '"
      ]
     },
     "execution_count": 6,
     "metadata": {},
     "output_type": "execute_result"
    }
   ],
   "source": [
    "# tardezinha campinas - 15 de julho 2023\n",
    "\n",
    "\n",
    "\"\"\" \n",
    "start_date = '2024-07-15'\n",
    "end_date = '2024-07-15'\n",
    "\n",
    "\n",
    "api_url = \"https://api.zigcore.com.br/integration/erp/saida-produtos\"\n",
    "token = \"wAfg8jrWPnpEjG6qTPo3EjAzyuTjhrMB\"\n",
    "\n",
    "params = {\n",
    "    'dtinicio': start_date,\n",
    "    'dtfim': end_date,\n",
    "    'loja': 'c87690d5-c387-410c-b39c-feb680e63c94', #ID que já achamos\n",
    "    'refunded': 'false'\n",
    "}\n",
    "\n",
    "\n",
    "headers = {\n",
    "    \"Authorization\": f\"{token}\",\n",
    "    \"Content-Type\": \"application/json\"\n",
    "}\n",
    "\n",
    "\n",
    "response = requests.get(api_url, headers=headers, params=params) \"\"\"\n",
    "\"\"\" if response.status_code == 200:\n",
    "    print(f\"Data for {params['dtinicio']} to {params['dtfim']}:\", response.json())\n",
    "else:\n",
    "    print(f\"Failed for {params['dtinicio']} to {params['dtfim']}:\", response.status_code, response.text) \"\"\"\n",
    "\"\"\" df=pd.DataFrame(response.json())\n",
    "df \"\"\""
   ]
  },
  {
   "cell_type": "markdown",
   "metadata": {},
   "source": [
    "- - - "
   ]
  },
  {
   "cell_type": "markdown",
   "metadata": {},
   "source": [
    "# Outro Token\n"
   ]
  },
  {
   "cell_type": "code",
   "execution_count": 7,
   "metadata": {},
   "outputs": [
    {
     "data": {
      "text/plain": [
       "' import requests\\n\\napi_url = \"https://api.zigcore.com.br/integration\"\\nrede = \"152f5dc6-0f40-4668-880b-b8a8d51c4120\"\\ntoken = \"hlqFYMUrmLX9NGTd07jC5ZjxLRKsOfqh\"\\n\\n\\nheaders = {\\n    \"Authorization\": f\"{token}\"\\n}\\n\\n\\nresponse = requests.get(f\"{api_url}/erp/lojas?rede={rede}\", headers=headers)\\n\\nprint(f\"{api_url}?rede={rede}\")\\n\\n# Check response\\nif response.status_code == 200:\\n    stores = response.json()  \\n    print(\"Stores:\", stores)\\nelse:\\n    print(\"Failed to fetch stores:\", response.status_code, response.text) '"
      ]
     },
     "execution_count": 7,
     "metadata": {},
     "output_type": "execute_result"
    }
   ],
   "source": [
    "\"\"\" import requests\n",
    "\n",
    "api_url = \"https://api.zigcore.com.br/integration\"\n",
    "rede = \"152f5dc6-0f40-4668-880b-b8a8d51c4120\"\n",
    "token = \"hlqFYMUrmLX9NGTd07jC5ZjxLRKsOfqh\"\n",
    "\n",
    "\n",
    "headers = {\n",
    "    \"Authorization\": f\"{token}\"\n",
    "}\n",
    "\n",
    "\n",
    "response = requests.get(f\"{api_url}/erp/lojas?rede={rede}\", headers=headers)\n",
    "\n",
    "print(f\"{api_url}?rede={rede}\")\n",
    "\n",
    "# Check response\n",
    "if response.status_code == 200:\n",
    "    stores = response.json()  \n",
    "    print(\"Stores:\", stores)\n",
    "else:\n",
    "    print(\"Failed to fetch stores:\", response.status_code, response.text) \"\"\""
   ]
  },
  {
   "cell_type": "markdown",
   "metadata": {},
   "source": [
    "# Trapist"
   ]
  },
  {
   "cell_type": "code",
   "execution_count": 8,
   "metadata": {},
   "outputs": [
    {
     "data": {
      "text/plain": [
       "' todos_produtos=pd.DataFrame()\\ntodos_faturamentos=pd.DataFrame()\\ntodas_recargas=pd.DataFrame() '"
      ]
     },
     "execution_count": 8,
     "metadata": {},
     "output_type": "execute_result"
    }
   ],
   "source": [
    "\"\"\" todos_produtos=pd.DataFrame()\n",
    "todos_faturamentos=pd.DataFrame()\n",
    "todas_recargas=pd.DataFrame() \"\"\""
   ]
  },
  {
   "cell_type": "code",
   "execution_count": 9,
   "metadata": {},
   "outputs": [
    {
     "data": {
      "text/plain": [
       "' #Tardezinha 15 de Julho de 2023\\n#Trapist 9 de março de 2024\\n# SOweto 27 de Julho de 2024\\n\\n\\n\\nstart_date = \\'2024-03-08\\'\\nend_date = \\'2024-03-10\\'\\nid_loja=\\'3123a77b-2730-4b44-ab69-24bba879c56b\\'\\n\\n\\ntoken = \"hlqFYMUrmLX9NGTd07jC5ZjxLRKsOfqh\"\\n\\n\\n\\n\\n\\n\\n\\n#PRODUTOS\\n\\n\\napi_url = \"https://api.zigcore.com.br/integration/erp/saida-produtos\"\\n\\n\\nparams = {\\n    \\'dtinicio\\': start_date,\\n    \\'dtfim\\': end_date,\\n    \\'loja\\': id_loja, #ID que já achamos\\n    \\'refunded\\': \\'false\\'\\n}\\n\\n\\nheaders = {\\n    \"Authorization\": f\"{token}\",\\n    \"Content-Type\": \"application/json\"\\n}\\n\\n\\nresponse_produtos = requests.get(api_url, headers=headers, params=params)\\n\\nprodutos=pd.DataFrame(response_produtos.json())\\nprodutos= produtos[[\"transactionDate\",\"unitValue\",\"count\",\"productName\",\"productCategory\",\"eventName\",\"employeeName\"]]\\nprodutos=produtos.rename(columns={\"transactionDate\":\"Data e Hora\",\"unitValue\":\"Soma de price\",\"count\":\"Quantidade\",\"productName\":\"product_name\",\"eventName\":\"Evento\",\"employeeName\":\"PDV\"})\\n\\n#Criando coluna para avaliar as vendas durante o evento\\nprodutos[\"Data e Hora\"]=pd.to_datetime(produtos[\"Data e Hora\"])\\nprodutos[\"Hora\"]=produtos[\"Data e Hora\"].dt.strftime(\\'%Y-%m-%d %H\\')\\n\\n#Formatando a coluna de Soma de price\\nprodutos[\"Soma de price\"]=produtos[\"Soma de price\"]/100\\n\\ntodos_produtos=pd.concat([todos_produtos,produtos], ignore_index=True)\\n\\n\\n\\n\\n\\n#FATURAMENTO\\n\\napi_url = \"https://api.zigcore.com.br/integration/erp/faturamento\"\\n\\nparams = {\\n    \\'dtinicio\\': start_date,\\n    \\'dtfim\\': end_date,\\n    \\'loja\\': id_loja\\n}\\n\\n\\nheaders = {\\n    \"Authorization\": f\"{token}\",\\n    \"Content-Type\": \"application/json\"\\n}\\n\\n\\nresponse_faturamento = requests.get(api_url, headers=headers, params=params)\\n\\nfaturamento=pd.DataFrame(response_faturamento.json())\\nfaturamento=faturamento[[\"paymentName\",\"value\"]]\\n\\n\\n#Corrigindo os valores\\nfaturamento[\"value\"]=faturamento[\"value\"]/100\\n\\n\\ntodos_faturamentos=pd.concat([todos_faturamentos,faturamento], ignore_index=True)\\n\\n\\n\\n\\n#RECARGAS\\n\\napi_url = \"https://api.zigcore.com.br/integration/erp/recharges\"\\ntoken = \"hlqFYMUrmLX9NGTd07jC5ZjxLRKsOfqh\"\\n\\nparams = {\\n    \\'dtinicio\\': start_date,\\n    \\'dtfim\\': end_date,\\n    \\'loja\\': id_loja\\n}\\n\\n\\nheaders = {\\n    \"Authorization\": f\"{token}\",\\n    \"Content-Type\": \"application/json\"\\n}\\n\\n\\nresponse_recarga = requests.get(api_url, headers=headers, params=params)\\n\\nrecarga=pd.DataFrame(response_recarga.json())\\n\\nrecarga=recarga[[\"date\",\"author\",\"totalValue\",\"userDocument\",\"userDocumentType\",\"userName\"]]\\n\\n#Corrigindo os valores\\nrecarga[\"totalValue\"]= recarga[\"totalValue\"]/100\\n\\n#Valores das datas\\nrecarga[\"date\"]=pd.to_datetime(recarga[\"date\"])\\nrecarga[\"Dia + Hora\"]=recarga[\"date\"].dt.strftime(\\'%Y-%m-%d %H\\')\\n\\ntodas_recargas=pd.concat([todas_recargas,recarga], ignore_index=True)\\n\\n\\n\\n\\n '"
      ]
     },
     "execution_count": 9,
     "metadata": {},
     "output_type": "execute_result"
    }
   ],
   "source": [
    "\"\"\" #Tardezinha 15 de Julho de 2023\n",
    "#Trapist 9 de março de 2024\n",
    "# SOweto 27 de Julho de 2024\n",
    "\n",
    "\n",
    "\n",
    "start_date = '2024-03-08'\n",
    "end_date = '2024-03-10'\n",
    "id_loja='3123a77b-2730-4b44-ab69-24bba879c56b'\n",
    "\n",
    "\n",
    "token = \"hlqFYMUrmLX9NGTd07jC5ZjxLRKsOfqh\"\n",
    "\n",
    "\n",
    "\n",
    "\n",
    "\n",
    "\n",
    "\n",
    "#PRODUTOS\n",
    "\n",
    "\n",
    "api_url = \"https://api.zigcore.com.br/integration/erp/saida-produtos\"\n",
    "\n",
    "\n",
    "params = {\n",
    "    'dtinicio': start_date,\n",
    "    'dtfim': end_date,\n",
    "    'loja': id_loja, #ID que já achamos\n",
    "    'refunded': 'false'\n",
    "}\n",
    "\n",
    "\n",
    "headers = {\n",
    "    \"Authorization\": f\"{token}\",\n",
    "    \"Content-Type\": \"application/json\"\n",
    "}\n",
    "\n",
    "\n",
    "response_produtos = requests.get(api_url, headers=headers, params=params)\n",
    "\n",
    "produtos=pd.DataFrame(response_produtos.json())\n",
    "produtos= produtos[[\"transactionDate\",\"unitValue\",\"count\",\"productName\",\"productCategory\",\"eventName\",\"employeeName\"]]\n",
    "produtos=produtos.rename(columns={\"transactionDate\":\"Data e Hora\",\"unitValue\":\"Soma de price\",\"count\":\"Quantidade\",\"productName\":\"product_name\",\"eventName\":\"Evento\",\"employeeName\":\"PDV\"})\n",
    "\n",
    "#Criando coluna para avaliar as vendas durante o evento\n",
    "produtos[\"Data e Hora\"]=pd.to_datetime(produtos[\"Data e Hora\"])\n",
    "produtos[\"Hora\"]=produtos[\"Data e Hora\"].dt.strftime('%Y-%m-%d %H')\n",
    "\n",
    "#Formatando a coluna de Soma de price\n",
    "produtos[\"Soma de price\"]=produtos[\"Soma de price\"]/100\n",
    "\n",
    "todos_produtos=pd.concat([todos_produtos,produtos], ignore_index=True)\n",
    "\n",
    "\n",
    "\n",
    "\n",
    "\n",
    "#FATURAMENTO\n",
    "\n",
    "api_url = \"https://api.zigcore.com.br/integration/erp/faturamento\"\n",
    "\n",
    "params = {\n",
    "    'dtinicio': start_date,\n",
    "    'dtfim': end_date,\n",
    "    'loja': id_loja\n",
    "}\n",
    "\n",
    "\n",
    "headers = {\n",
    "    \"Authorization\": f\"{token}\",\n",
    "    \"Content-Type\": \"application/json\"\n",
    "}\n",
    "\n",
    "\n",
    "response_faturamento = requests.get(api_url, headers=headers, params=params)\n",
    "\n",
    "faturamento=pd.DataFrame(response_faturamento.json())\n",
    "faturamento=faturamento[[\"paymentName\",\"value\"]]\n",
    "\n",
    "\n",
    "#Corrigindo os valores\n",
    "faturamento[\"value\"]=faturamento[\"value\"]/100\n",
    "\n",
    "\n",
    "todos_faturamentos=pd.concat([todos_faturamentos,faturamento], ignore_index=True)\n",
    "\n",
    "\n",
    "\n",
    "\n",
    "#RECARGAS\n",
    "\n",
    "api_url = \"https://api.zigcore.com.br/integration/erp/recharges\"\n",
    "token = \"hlqFYMUrmLX9NGTd07jC5ZjxLRKsOfqh\"\n",
    "\n",
    "params = {\n",
    "    'dtinicio': start_date,\n",
    "    'dtfim': end_date,\n",
    "    'loja': id_loja\n",
    "}\n",
    "\n",
    "\n",
    "headers = {\n",
    "    \"Authorization\": f\"{token}\",\n",
    "    \"Content-Type\": \"application/json\"\n",
    "}\n",
    "\n",
    "\n",
    "response_recarga = requests.get(api_url, headers=headers, params=params)\n",
    "\n",
    "recarga=pd.DataFrame(response_recarga.json())\n",
    "\n",
    "recarga=recarga[[\"date\",\"author\",\"totalValue\",\"userDocument\",\"userDocumentType\",\"userName\"]]\n",
    "\n",
    "#Corrigindo os valores\n",
    "recarga[\"totalValue\"]= recarga[\"totalValue\"]/100\n",
    "\n",
    "#Valores das datas\n",
    "recarga[\"date\"]=pd.to_datetime(recarga[\"date\"])\n",
    "recarga[\"Dia + Hora\"]=recarga[\"date\"].dt.strftime('%Y-%m-%d %H')\n",
    "\n",
    "todas_recargas=pd.concat([todas_recargas,recarga], ignore_index=True)\n",
    "\n",
    "\n",
    "\n",
    "\n",
    " \"\"\""
   ]
  },
  {
   "cell_type": "code",
   "execution_count": 10,
   "metadata": {},
   "outputs": [
    {
     "data": {
      "text/plain": [
       "' todos_produtos\\n '"
      ]
     },
     "execution_count": 10,
     "metadata": {},
     "output_type": "execute_result"
    }
   ],
   "source": [
    "\"\"\" todos_produtos\n",
    " \"\"\""
   ]
  },
  {
   "cell_type": "code",
   "execution_count": 11,
   "metadata": {},
   "outputs": [
    {
     "data": {
      "text/plain": [
       "' todos_faturamentos '"
      ]
     },
     "execution_count": 11,
     "metadata": {},
     "output_type": "execute_result"
    }
   ],
   "source": [
    "\"\"\" todos_faturamentos \"\"\""
   ]
  },
  {
   "cell_type": "code",
   "execution_count": 12,
   "metadata": {},
   "outputs": [
    {
     "data": {
      "text/plain": [
       "' todas_recargas '"
      ]
     },
     "execution_count": 12,
     "metadata": {},
     "output_type": "execute_result"
    }
   ],
   "source": [
    "\"\"\" todas_recargas \"\"\""
   ]
  },
  {
   "cell_type": "markdown",
   "metadata": {},
   "source": [
    "- - - "
   ]
  },
  {
   "cell_type": "markdown",
   "metadata": {},
   "source": [
    "# Eventos que rodam em \"N\" (Tardezinhas e Soweto)"
   ]
  },
  {
   "cell_type": "code",
   "execution_count": 13,
   "metadata": {},
   "outputs": [],
   "source": [
    "import pandas as pd\n",
    "import requests\n",
    "import json\n",
    "import matplotlib.pyplot as plt\n",
    "import seaborn as sns\n",
    "import numpy as np\n",
    "import time\n",
    "from datetime import datetime, timedelta"
   ]
  },
  {
   "cell_type": "code",
   "execution_count": 14,
   "metadata": {},
   "outputs": [],
   "source": [
    "pd.set_option('display.max_columns', None)"
   ]
  },
  {
   "cell_type": "code",
   "execution_count": 15,
   "metadata": {},
   "outputs": [
    {
     "data": {
      "text/plain": [
       "'1115d5b7-0fee-4ac5-ab76-c5c1e91f8de0'"
      ]
     },
     "execution_count": 15,
     "metadata": {},
     "output_type": "execute_result"
    }
   ],
   "source": [
    "#Geração do Token de acesso\n",
    "#Geração do Token de acesso\n",
    "\n",
    "\n",
    "#api_url = \"http://devapp.netpdv.info:5566/api/relatorios/GeraToken\"\n",
    "api_url= \"https://app.netpdv.com:5566/api/relatorios/GeraToken\"\n",
    "\n",
    "#tardezinha Campinas 15740\n",
    "#tardezinha RB  17990\n",
    "\n",
    "\n",
    "headers = {\n",
    "    \n",
    "    \"Content-Type\": \"text/plain\",\n",
    "    \"User-Agent\": \"PostmanRuntime/7.24.0\",\n",
    "    \"Accept\": \"*/*\",\n",
    "    \"Accept-Encoding\": \"gzip, deflate, br\",\n",
    "    \"Connection\": \"keep-alive\",\n",
    "    \"token_parceiro\": \"BCED47DAE6\",\n",
    "    \"Content-type\": \"application/json\"\n",
    "    \n",
    "\n",
    "}\n",
    "\n",
    "#Tardezinha Campinas\n",
    "body = {\n",
    "    'codigo_evento': 15740\n",
    "}\n",
    "\n",
    "\n",
    "\n",
    "\n",
    "response_token = requests.post(api_url, headers=headers, json=body)\n",
    "token_json=response_token.json()\n",
    "token=token_json['dados']['token_acesso']\n",
    "token\n",
    "\n"
   ]
  },
  {
   "cell_type": "markdown",
   "metadata": {},
   "source": [
    "{'codigo_retorno': 0,\n",
    " 'mensagem_erro': '',\n",
    " 'dados': {'token_acesso': 'string_de_acesso',\n",
    "  'data_expiracao': 'expira_em'}}"
   ]
  },
  {
   "cell_type": "code",
   "execution_count": 17,
   "metadata": {},
   "outputs": [
    {
     "name": "stdout",
     "output_type": "stream",
     "text": [
      "13:00:00\n",
      "14:00:00\n",
      "15:00:00\n",
      "16:00:00\n",
      "17:00:00\n",
      "18:00:00\n",
      "19:00:00\n",
      "20:00:00\n",
      "21:00:00\n",
      "22:00:00\n",
      "23:00:00\n",
      "00:00:00\n",
      "01:00:00\n",
      "02:00:00\n",
      "03:00:00\n",
      "04:00:00\n",
      "05:00:00\n",
      "06:00:00\n",
      "07:00:00\n",
      "08:00:00\n",
      "09:00:00\n",
      "10:00:00\n",
      "11:00:00\n",
      "12:00:00\n",
      "13:00:00\n",
      "14:00:00\n",
      "15:00:00\n",
      "16:00:00\n",
      "17:00:00\n",
      "18:00:00\n",
      "19:00:00\n",
      "20:00:00\n",
      "21:00:00\n",
      "22:00:00\n",
      "23:00:00\n",
      "00:00:00\n",
      "01:00:00\n",
      "02:00:00\n",
      "03:00:00\n",
      "04:00:00\n",
      "05:00:00\n",
      "06:00:00\n",
      "07:00:00\n",
      "08:00:00\n"
     ]
    },
    {
     "ename": "KeyboardInterrupt",
     "evalue": "",
     "output_type": "error",
     "traceback": [
      "\u001b[1;31m---------------------------------------------------------------------------\u001b[0m",
      "\u001b[1;31mKeyboardInterrupt\u001b[0m                         Traceback (most recent call last)",
      "Cell \u001b[1;32mIn[17], line 67\u001b[0m\n\u001b[0;32m     61\u001b[0m \u001b[38;5;66;03m#############################################\u001b[39;00m\n\u001b[0;32m     65\u001b[0m time\u001b[38;5;241m.\u001b[39msleep(\u001b[38;5;241m2\u001b[39m)\n\u001b[1;32m---> 67\u001b[0m response_transacoes \u001b[38;5;241m=\u001b[39m requests\u001b[38;5;241m.\u001b[39mpost(api_url, headers\u001b[38;5;241m=\u001b[39mheaders, json\u001b[38;5;241m=\u001b[39mbody)\n\u001b[0;32m     68\u001b[0m transacoes_json\u001b[38;5;241m=\u001b[39mresponse_transacoes\u001b[38;5;241m.\u001b[39mjson()\n\u001b[0;32m     72\u001b[0m produtos \u001b[38;5;241m=\u001b[39m transacoes_json[\u001b[38;5;124m\"\u001b[39m\u001b[38;5;124mdados\u001b[39m\u001b[38;5;124m\"\u001b[39m][\u001b[38;5;124m\"\u001b[39m\u001b[38;5;124mtransacoes\u001b[39m\u001b[38;5;124m\"\u001b[39m]\n",
      "File \u001b[1;32mc:\\Users\\monon\\anaconda3\\Lib\\site-packages\\requests\\api.py:115\u001b[0m, in \u001b[0;36mpost\u001b[1;34m(url, data, json, **kwargs)\u001b[0m\n\u001b[0;32m    103\u001b[0m \u001b[38;5;28;01mdef\u001b[39;00m \u001b[38;5;21mpost\u001b[39m(url, data\u001b[38;5;241m=\u001b[39m\u001b[38;5;28;01mNone\u001b[39;00m, json\u001b[38;5;241m=\u001b[39m\u001b[38;5;28;01mNone\u001b[39;00m, \u001b[38;5;241m*\u001b[39m\u001b[38;5;241m*\u001b[39mkwargs):\n\u001b[0;32m    104\u001b[0m \u001b[38;5;250m    \u001b[39m\u001b[38;5;124mr\u001b[39m\u001b[38;5;124;03m\"\"\"Sends a POST request.\u001b[39;00m\n\u001b[0;32m    105\u001b[0m \n\u001b[0;32m    106\u001b[0m \u001b[38;5;124;03m    :param url: URL for the new :class:`Request` object.\u001b[39;00m\n\u001b[1;32m   (...)\u001b[0m\n\u001b[0;32m    112\u001b[0m \u001b[38;5;124;03m    :rtype: requests.Response\u001b[39;00m\n\u001b[0;32m    113\u001b[0m \u001b[38;5;124;03m    \"\"\"\u001b[39;00m\n\u001b[1;32m--> 115\u001b[0m     \u001b[38;5;28;01mreturn\u001b[39;00m request(\u001b[38;5;124m\"\u001b[39m\u001b[38;5;124mpost\u001b[39m\u001b[38;5;124m\"\u001b[39m, url, data\u001b[38;5;241m=\u001b[39mdata, json\u001b[38;5;241m=\u001b[39mjson, \u001b[38;5;241m*\u001b[39m\u001b[38;5;241m*\u001b[39mkwargs)\n",
      "File \u001b[1;32mc:\\Users\\monon\\anaconda3\\Lib\\site-packages\\requests\\api.py:59\u001b[0m, in \u001b[0;36mrequest\u001b[1;34m(method, url, **kwargs)\u001b[0m\n\u001b[0;32m     55\u001b[0m \u001b[38;5;66;03m# By using the 'with' statement we are sure the session is closed, thus we\u001b[39;00m\n\u001b[0;32m     56\u001b[0m \u001b[38;5;66;03m# avoid leaving sockets open which can trigger a ResourceWarning in some\u001b[39;00m\n\u001b[0;32m     57\u001b[0m \u001b[38;5;66;03m# cases, and look like a memory leak in others.\u001b[39;00m\n\u001b[0;32m     58\u001b[0m \u001b[38;5;28;01mwith\u001b[39;00m sessions\u001b[38;5;241m.\u001b[39mSession() \u001b[38;5;28;01mas\u001b[39;00m session:\n\u001b[1;32m---> 59\u001b[0m     \u001b[38;5;28;01mreturn\u001b[39;00m session\u001b[38;5;241m.\u001b[39mrequest(method\u001b[38;5;241m=\u001b[39mmethod, url\u001b[38;5;241m=\u001b[39murl, \u001b[38;5;241m*\u001b[39m\u001b[38;5;241m*\u001b[39mkwargs)\n",
      "File \u001b[1;32mc:\\Users\\monon\\anaconda3\\Lib\\site-packages\\requests\\sessions.py:589\u001b[0m, in \u001b[0;36mSession.request\u001b[1;34m(self, method, url, params, data, headers, cookies, files, auth, timeout, allow_redirects, proxies, hooks, stream, verify, cert, json)\u001b[0m\n\u001b[0;32m    584\u001b[0m send_kwargs \u001b[38;5;241m=\u001b[39m {\n\u001b[0;32m    585\u001b[0m     \u001b[38;5;124m\"\u001b[39m\u001b[38;5;124mtimeout\u001b[39m\u001b[38;5;124m\"\u001b[39m: timeout,\n\u001b[0;32m    586\u001b[0m     \u001b[38;5;124m\"\u001b[39m\u001b[38;5;124mallow_redirects\u001b[39m\u001b[38;5;124m\"\u001b[39m: allow_redirects,\n\u001b[0;32m    587\u001b[0m }\n\u001b[0;32m    588\u001b[0m send_kwargs\u001b[38;5;241m.\u001b[39mupdate(settings)\n\u001b[1;32m--> 589\u001b[0m resp \u001b[38;5;241m=\u001b[39m \u001b[38;5;28mself\u001b[39m\u001b[38;5;241m.\u001b[39msend(prep, \u001b[38;5;241m*\u001b[39m\u001b[38;5;241m*\u001b[39msend_kwargs)\n\u001b[0;32m    591\u001b[0m \u001b[38;5;28;01mreturn\u001b[39;00m resp\n",
      "File \u001b[1;32mc:\\Users\\monon\\anaconda3\\Lib\\site-packages\\requests\\sessions.py:703\u001b[0m, in \u001b[0;36mSession.send\u001b[1;34m(self, request, **kwargs)\u001b[0m\n\u001b[0;32m    700\u001b[0m start \u001b[38;5;241m=\u001b[39m preferred_clock()\n\u001b[0;32m    702\u001b[0m \u001b[38;5;66;03m# Send the request\u001b[39;00m\n\u001b[1;32m--> 703\u001b[0m r \u001b[38;5;241m=\u001b[39m adapter\u001b[38;5;241m.\u001b[39msend(request, \u001b[38;5;241m*\u001b[39m\u001b[38;5;241m*\u001b[39mkwargs)\n\u001b[0;32m    705\u001b[0m \u001b[38;5;66;03m# Total elapsed time of the request (approximately)\u001b[39;00m\n\u001b[0;32m    706\u001b[0m elapsed \u001b[38;5;241m=\u001b[39m preferred_clock() \u001b[38;5;241m-\u001b[39m start\n",
      "File \u001b[1;32mc:\\Users\\monon\\anaconda3\\Lib\\site-packages\\requests\\adapters.py:486\u001b[0m, in \u001b[0;36mHTTPAdapter.send\u001b[1;34m(self, request, stream, timeout, verify, cert, proxies)\u001b[0m\n\u001b[0;32m    483\u001b[0m     timeout \u001b[38;5;241m=\u001b[39m TimeoutSauce(connect\u001b[38;5;241m=\u001b[39mtimeout, read\u001b[38;5;241m=\u001b[39mtimeout)\n\u001b[0;32m    485\u001b[0m \u001b[38;5;28;01mtry\u001b[39;00m:\n\u001b[1;32m--> 486\u001b[0m     resp \u001b[38;5;241m=\u001b[39m conn\u001b[38;5;241m.\u001b[39murlopen(\n\u001b[0;32m    487\u001b[0m         method\u001b[38;5;241m=\u001b[39mrequest\u001b[38;5;241m.\u001b[39mmethod,\n\u001b[0;32m    488\u001b[0m         url\u001b[38;5;241m=\u001b[39murl,\n\u001b[0;32m    489\u001b[0m         body\u001b[38;5;241m=\u001b[39mrequest\u001b[38;5;241m.\u001b[39mbody,\n\u001b[0;32m    490\u001b[0m         headers\u001b[38;5;241m=\u001b[39mrequest\u001b[38;5;241m.\u001b[39mheaders,\n\u001b[0;32m    491\u001b[0m         redirect\u001b[38;5;241m=\u001b[39m\u001b[38;5;28;01mFalse\u001b[39;00m,\n\u001b[0;32m    492\u001b[0m         assert_same_host\u001b[38;5;241m=\u001b[39m\u001b[38;5;28;01mFalse\u001b[39;00m,\n\u001b[0;32m    493\u001b[0m         preload_content\u001b[38;5;241m=\u001b[39m\u001b[38;5;28;01mFalse\u001b[39;00m,\n\u001b[0;32m    494\u001b[0m         decode_content\u001b[38;5;241m=\u001b[39m\u001b[38;5;28;01mFalse\u001b[39;00m,\n\u001b[0;32m    495\u001b[0m         retries\u001b[38;5;241m=\u001b[39m\u001b[38;5;28mself\u001b[39m\u001b[38;5;241m.\u001b[39mmax_retries,\n\u001b[0;32m    496\u001b[0m         timeout\u001b[38;5;241m=\u001b[39mtimeout,\n\u001b[0;32m    497\u001b[0m         chunked\u001b[38;5;241m=\u001b[39mchunked,\n\u001b[0;32m    498\u001b[0m     )\n\u001b[0;32m    500\u001b[0m \u001b[38;5;28;01mexcept\u001b[39;00m (ProtocolError, \u001b[38;5;167;01mOSError\u001b[39;00m) \u001b[38;5;28;01mas\u001b[39;00m err:\n\u001b[0;32m    501\u001b[0m     \u001b[38;5;28;01mraise\u001b[39;00m \u001b[38;5;167;01mConnectionError\u001b[39;00m(err, request\u001b[38;5;241m=\u001b[39mrequest)\n",
      "File \u001b[1;32mc:\\Users\\monon\\anaconda3\\Lib\\site-packages\\urllib3\\connectionpool.py:791\u001b[0m, in \u001b[0;36mHTTPConnectionPool.urlopen\u001b[1;34m(self, method, url, body, headers, retries, redirect, assert_same_host, timeout, pool_timeout, release_conn, chunked, body_pos, preload_content, decode_content, **response_kw)\u001b[0m\n\u001b[0;32m    788\u001b[0m response_conn \u001b[38;5;241m=\u001b[39m conn \u001b[38;5;28;01mif\u001b[39;00m \u001b[38;5;129;01mnot\u001b[39;00m release_conn \u001b[38;5;28;01melse\u001b[39;00m \u001b[38;5;28;01mNone\u001b[39;00m\n\u001b[0;32m    790\u001b[0m \u001b[38;5;66;03m# Make the request on the HTTPConnection object\u001b[39;00m\n\u001b[1;32m--> 791\u001b[0m response \u001b[38;5;241m=\u001b[39m \u001b[38;5;28mself\u001b[39m\u001b[38;5;241m.\u001b[39m_make_request(\n\u001b[0;32m    792\u001b[0m     conn,\n\u001b[0;32m    793\u001b[0m     method,\n\u001b[0;32m    794\u001b[0m     url,\n\u001b[0;32m    795\u001b[0m     timeout\u001b[38;5;241m=\u001b[39mtimeout_obj,\n\u001b[0;32m    796\u001b[0m     body\u001b[38;5;241m=\u001b[39mbody,\n\u001b[0;32m    797\u001b[0m     headers\u001b[38;5;241m=\u001b[39mheaders,\n\u001b[0;32m    798\u001b[0m     chunked\u001b[38;5;241m=\u001b[39mchunked,\n\u001b[0;32m    799\u001b[0m     retries\u001b[38;5;241m=\u001b[39mretries,\n\u001b[0;32m    800\u001b[0m     response_conn\u001b[38;5;241m=\u001b[39mresponse_conn,\n\u001b[0;32m    801\u001b[0m     preload_content\u001b[38;5;241m=\u001b[39mpreload_content,\n\u001b[0;32m    802\u001b[0m     decode_content\u001b[38;5;241m=\u001b[39mdecode_content,\n\u001b[0;32m    803\u001b[0m     \u001b[38;5;241m*\u001b[39m\u001b[38;5;241m*\u001b[39mresponse_kw,\n\u001b[0;32m    804\u001b[0m )\n\u001b[0;32m    806\u001b[0m \u001b[38;5;66;03m# Everything went great!\u001b[39;00m\n\u001b[0;32m    807\u001b[0m clean_exit \u001b[38;5;241m=\u001b[39m \u001b[38;5;28;01mTrue\u001b[39;00m\n",
      "File \u001b[1;32mc:\\Users\\monon\\anaconda3\\Lib\\site-packages\\urllib3\\connectionpool.py:468\u001b[0m, in \u001b[0;36mHTTPConnectionPool._make_request\u001b[1;34m(self, conn, method, url, body, headers, retries, timeout, chunked, response_conn, preload_content, decode_content, enforce_content_length)\u001b[0m\n\u001b[0;32m    465\u001b[0m \u001b[38;5;28;01mtry\u001b[39;00m:\n\u001b[0;32m    466\u001b[0m     \u001b[38;5;66;03m# Trigger any extra validation we need to do.\u001b[39;00m\n\u001b[0;32m    467\u001b[0m     \u001b[38;5;28;01mtry\u001b[39;00m:\n\u001b[1;32m--> 468\u001b[0m         \u001b[38;5;28mself\u001b[39m\u001b[38;5;241m.\u001b[39m_validate_conn(conn)\n\u001b[0;32m    469\u001b[0m     \u001b[38;5;28;01mexcept\u001b[39;00m (SocketTimeout, BaseSSLError) \u001b[38;5;28;01mas\u001b[39;00m e:\n\u001b[0;32m    470\u001b[0m         \u001b[38;5;28mself\u001b[39m\u001b[38;5;241m.\u001b[39m_raise_timeout(err\u001b[38;5;241m=\u001b[39me, url\u001b[38;5;241m=\u001b[39murl, timeout_value\u001b[38;5;241m=\u001b[39mconn\u001b[38;5;241m.\u001b[39mtimeout)\n",
      "File \u001b[1;32mc:\\Users\\monon\\anaconda3\\Lib\\site-packages\\urllib3\\connectionpool.py:1097\u001b[0m, in \u001b[0;36mHTTPSConnectionPool._validate_conn\u001b[1;34m(self, conn)\u001b[0m\n\u001b[0;32m   1095\u001b[0m \u001b[38;5;66;03m# Force connect early to allow us to validate the connection.\u001b[39;00m\n\u001b[0;32m   1096\u001b[0m \u001b[38;5;28;01mif\u001b[39;00m conn\u001b[38;5;241m.\u001b[39mis_closed:\n\u001b[1;32m-> 1097\u001b[0m     conn\u001b[38;5;241m.\u001b[39mconnect()\n\u001b[0;32m   1099\u001b[0m \u001b[38;5;28;01mif\u001b[39;00m \u001b[38;5;129;01mnot\u001b[39;00m conn\u001b[38;5;241m.\u001b[39mis_verified:\n\u001b[0;32m   1100\u001b[0m     warnings\u001b[38;5;241m.\u001b[39mwarn(\n\u001b[0;32m   1101\u001b[0m         (\n\u001b[0;32m   1102\u001b[0m             \u001b[38;5;124mf\u001b[39m\u001b[38;5;124m\"\u001b[39m\u001b[38;5;124mUnverified HTTPS request is being made to host \u001b[39m\u001b[38;5;124m'\u001b[39m\u001b[38;5;132;01m{\u001b[39;00mconn\u001b[38;5;241m.\u001b[39mhost\u001b[38;5;132;01m}\u001b[39;00m\u001b[38;5;124m'\u001b[39m\u001b[38;5;124m. \u001b[39m\u001b[38;5;124m\"\u001b[39m\n\u001b[1;32m   (...)\u001b[0m\n\u001b[0;32m   1107\u001b[0m         InsecureRequestWarning,\n\u001b[0;32m   1108\u001b[0m     )\n",
      "File \u001b[1;32mc:\\Users\\monon\\anaconda3\\Lib\\site-packages\\urllib3\\connection.py:642\u001b[0m, in \u001b[0;36mHTTPSConnection.connect\u001b[1;34m(self)\u001b[0m\n\u001b[0;32m    633\u001b[0m \u001b[38;5;28;01mif\u001b[39;00m is_time_off:\n\u001b[0;32m    634\u001b[0m     warnings\u001b[38;5;241m.\u001b[39mwarn(\n\u001b[0;32m    635\u001b[0m         (\n\u001b[0;32m    636\u001b[0m             \u001b[38;5;124mf\u001b[39m\u001b[38;5;124m\"\u001b[39m\u001b[38;5;124mSystem time is way off (before \u001b[39m\u001b[38;5;132;01m{\u001b[39;00mRECENT_DATE\u001b[38;5;132;01m}\u001b[39;00m\u001b[38;5;124m). This will probably \u001b[39m\u001b[38;5;124m\"\u001b[39m\n\u001b[1;32m   (...)\u001b[0m\n\u001b[0;32m    639\u001b[0m         SystemTimeWarning,\n\u001b[0;32m    640\u001b[0m     )\n\u001b[1;32m--> 642\u001b[0m sock_and_verified \u001b[38;5;241m=\u001b[39m _ssl_wrap_socket_and_match_hostname(\n\u001b[0;32m    643\u001b[0m     sock\u001b[38;5;241m=\u001b[39msock,\n\u001b[0;32m    644\u001b[0m     cert_reqs\u001b[38;5;241m=\u001b[39m\u001b[38;5;28mself\u001b[39m\u001b[38;5;241m.\u001b[39mcert_reqs,\n\u001b[0;32m    645\u001b[0m     ssl_version\u001b[38;5;241m=\u001b[39m\u001b[38;5;28mself\u001b[39m\u001b[38;5;241m.\u001b[39mssl_version,\n\u001b[0;32m    646\u001b[0m     ssl_minimum_version\u001b[38;5;241m=\u001b[39m\u001b[38;5;28mself\u001b[39m\u001b[38;5;241m.\u001b[39mssl_minimum_version,\n\u001b[0;32m    647\u001b[0m     ssl_maximum_version\u001b[38;5;241m=\u001b[39m\u001b[38;5;28mself\u001b[39m\u001b[38;5;241m.\u001b[39mssl_maximum_version,\n\u001b[0;32m    648\u001b[0m     ca_certs\u001b[38;5;241m=\u001b[39m\u001b[38;5;28mself\u001b[39m\u001b[38;5;241m.\u001b[39mca_certs,\n\u001b[0;32m    649\u001b[0m     ca_cert_dir\u001b[38;5;241m=\u001b[39m\u001b[38;5;28mself\u001b[39m\u001b[38;5;241m.\u001b[39mca_cert_dir,\n\u001b[0;32m    650\u001b[0m     ca_cert_data\u001b[38;5;241m=\u001b[39m\u001b[38;5;28mself\u001b[39m\u001b[38;5;241m.\u001b[39mca_cert_data,\n\u001b[0;32m    651\u001b[0m     cert_file\u001b[38;5;241m=\u001b[39m\u001b[38;5;28mself\u001b[39m\u001b[38;5;241m.\u001b[39mcert_file,\n\u001b[0;32m    652\u001b[0m     key_file\u001b[38;5;241m=\u001b[39m\u001b[38;5;28mself\u001b[39m\u001b[38;5;241m.\u001b[39mkey_file,\n\u001b[0;32m    653\u001b[0m     key_password\u001b[38;5;241m=\u001b[39m\u001b[38;5;28mself\u001b[39m\u001b[38;5;241m.\u001b[39mkey_password,\n\u001b[0;32m    654\u001b[0m     server_hostname\u001b[38;5;241m=\u001b[39mserver_hostname,\n\u001b[0;32m    655\u001b[0m     ssl_context\u001b[38;5;241m=\u001b[39m\u001b[38;5;28mself\u001b[39m\u001b[38;5;241m.\u001b[39mssl_context,\n\u001b[0;32m    656\u001b[0m     tls_in_tls\u001b[38;5;241m=\u001b[39mtls_in_tls,\n\u001b[0;32m    657\u001b[0m     assert_hostname\u001b[38;5;241m=\u001b[39m\u001b[38;5;28mself\u001b[39m\u001b[38;5;241m.\u001b[39massert_hostname,\n\u001b[0;32m    658\u001b[0m     assert_fingerprint\u001b[38;5;241m=\u001b[39m\u001b[38;5;28mself\u001b[39m\u001b[38;5;241m.\u001b[39massert_fingerprint,\n\u001b[0;32m    659\u001b[0m )\n\u001b[0;32m    660\u001b[0m \u001b[38;5;28mself\u001b[39m\u001b[38;5;241m.\u001b[39msock \u001b[38;5;241m=\u001b[39m sock_and_verified\u001b[38;5;241m.\u001b[39msocket\n\u001b[0;32m    661\u001b[0m \u001b[38;5;28mself\u001b[39m\u001b[38;5;241m.\u001b[39mis_verified \u001b[38;5;241m=\u001b[39m sock_and_verified\u001b[38;5;241m.\u001b[39mis_verified\n",
      "File \u001b[1;32mc:\\Users\\monon\\anaconda3\\Lib\\site-packages\\urllib3\\connection.py:783\u001b[0m, in \u001b[0;36m_ssl_wrap_socket_and_match_hostname\u001b[1;34m(sock, cert_reqs, ssl_version, ssl_minimum_version, ssl_maximum_version, cert_file, key_file, key_password, ca_certs, ca_cert_dir, ca_cert_data, assert_hostname, assert_fingerprint, server_hostname, ssl_context, tls_in_tls)\u001b[0m\n\u001b[0;32m    780\u001b[0m     \u001b[38;5;28;01mif\u001b[39;00m is_ipaddress(normalized):\n\u001b[0;32m    781\u001b[0m         server_hostname \u001b[38;5;241m=\u001b[39m normalized\n\u001b[1;32m--> 783\u001b[0m ssl_sock \u001b[38;5;241m=\u001b[39m ssl_wrap_socket(\n\u001b[0;32m    784\u001b[0m     sock\u001b[38;5;241m=\u001b[39msock,\n\u001b[0;32m    785\u001b[0m     keyfile\u001b[38;5;241m=\u001b[39mkey_file,\n\u001b[0;32m    786\u001b[0m     certfile\u001b[38;5;241m=\u001b[39mcert_file,\n\u001b[0;32m    787\u001b[0m     key_password\u001b[38;5;241m=\u001b[39mkey_password,\n\u001b[0;32m    788\u001b[0m     ca_certs\u001b[38;5;241m=\u001b[39mca_certs,\n\u001b[0;32m    789\u001b[0m     ca_cert_dir\u001b[38;5;241m=\u001b[39mca_cert_dir,\n\u001b[0;32m    790\u001b[0m     ca_cert_data\u001b[38;5;241m=\u001b[39mca_cert_data,\n\u001b[0;32m    791\u001b[0m     server_hostname\u001b[38;5;241m=\u001b[39mserver_hostname,\n\u001b[0;32m    792\u001b[0m     ssl_context\u001b[38;5;241m=\u001b[39mcontext,\n\u001b[0;32m    793\u001b[0m     tls_in_tls\u001b[38;5;241m=\u001b[39mtls_in_tls,\n\u001b[0;32m    794\u001b[0m )\n\u001b[0;32m    796\u001b[0m \u001b[38;5;28;01mtry\u001b[39;00m:\n\u001b[0;32m    797\u001b[0m     \u001b[38;5;28;01mif\u001b[39;00m assert_fingerprint:\n",
      "File \u001b[1;32mc:\\Users\\monon\\anaconda3\\Lib\\site-packages\\urllib3\\util\\ssl_.py:446\u001b[0m, in \u001b[0;36mssl_wrap_socket\u001b[1;34m(sock, keyfile, certfile, cert_reqs, ca_certs, server_hostname, ssl_version, ciphers, ssl_context, ca_cert_dir, key_password, ca_cert_data, tls_in_tls)\u001b[0m\n\u001b[0;32m    444\u001b[0m \u001b[38;5;28;01mif\u001b[39;00m ca_certs \u001b[38;5;129;01mor\u001b[39;00m ca_cert_dir \u001b[38;5;129;01mor\u001b[39;00m ca_cert_data:\n\u001b[0;32m    445\u001b[0m     \u001b[38;5;28;01mtry\u001b[39;00m:\n\u001b[1;32m--> 446\u001b[0m         context\u001b[38;5;241m.\u001b[39mload_verify_locations(ca_certs, ca_cert_dir, ca_cert_data)\n\u001b[0;32m    447\u001b[0m     \u001b[38;5;28;01mexcept\u001b[39;00m \u001b[38;5;167;01mOSError\u001b[39;00m \u001b[38;5;28;01mas\u001b[39;00m e:\n\u001b[0;32m    448\u001b[0m         \u001b[38;5;28;01mraise\u001b[39;00m SSLError(e) \u001b[38;5;28;01mfrom\u001b[39;00m \u001b[38;5;21;01me\u001b[39;00m\n",
      "\u001b[1;31mKeyboardInterrupt\u001b[0m: "
     ]
    }
   ],
   "source": [
    "api_url=\"https://app.netpdv.com:5566/api/relatorios/ListaTransacoes\"\n",
    "\n",
    "\n",
    "#deixar setado para inicio às 12hrs e fim às 06hrs do dia seguinte\n",
    "\n",
    "data_inicio=\"2023-07-15\"\n",
    "data_fim=\"2023-07-15\"\n",
    "\n",
    "\n",
    "\n",
    "\n",
    "\n",
    "#Definir a Dataframe de produtos (df_produtos)\n",
    "df_produtos=pd.DataFrame()\n",
    "\n",
    "#loop temporal deve começar aqui\n",
    "\n",
    "\n",
    "horario_inicio = \"12:00:00\"\n",
    "horario_fim=\"13:00:00\"\n",
    "#data_inicio=pd.to_datetime(data_inicio, format='%Y-%m-%d')\n",
    "\n",
    "\n",
    "\n",
    "while horario_fim!=\"00:07:00\":\n",
    "\n",
    "    body={\n",
    "        \"data_inicio\":data_inicio+\" \"+horario_inicio,\n",
    "        \"data_fim\":data_fim+\" \"+horario_fim,\n",
    "    }\n",
    "\n",
    "\n",
    "    headers = {\n",
    "        \"token_acesso\":token\n",
    "    }\n",
    "\n",
    "    print(horario_fim)\n",
    "\n",
    "    ##############################################################\n",
    "    #Atualizando os horários para o próximo loop\n",
    "    horario_inicio=pd.to_datetime(horario_inicio, format='%H:%M:%S')\n",
    "    horario_inicio +=timedelta(hours=1)\n",
    "    horario_inicio=horario_inicio.strftime('%H:%M:%S')\n",
    "\n",
    "    horario_fim=pd.to_datetime(horario_fim, format='%H:%M:%S')\n",
    "    horario_fim +=timedelta(hours=1)\n",
    "    horario_fim=horario_fim.strftime('%H:%M:%S')\n",
    "\n",
    "\n",
    "\n",
    "    if horario_fim==\"00:00:00\":\n",
    "        data_fim=pd.to_datetime(data_fim, format='%Y-%m-%d')\n",
    "        data_fim += timedelta(days=1)\n",
    "        data_fim=data_fim.strftime('%Y-%m-%d')\n",
    "\n",
    "    if horario_inicio==\"00:00:00\":\n",
    "        data_inicio=pd.to_datetime(data_inicio, format='%Y-%m-%d')\n",
    "        data_inicio += timedelta(days=1)\n",
    "        data_inicio=data_inicio.strftime('%Y-%m-%d')\n",
    "\n",
    "    #############################################\n",
    "\n",
    "\n",
    "\n",
    "    time.sleep(2)\n",
    "\n",
    "    response_transacoes = requests.post(api_url, headers=headers, json=body)\n",
    "    transacoes_json=response_transacoes.json()\n",
    "\n",
    "\n",
    "\n",
    "    produtos = transacoes_json[\"dados\"][\"transacoes\"]\n",
    "    df_temp=pd.DataFrame()\n",
    "\n",
    "    for produto in produtos:\n",
    "        produto_df=pd.DataFrame(produto)\n",
    "        infos_adicionais=produto_df[[\"codigo_evento\",\"nome_evento\",\"data_hora_realizacao\",\"documento_cliente\"]]\n",
    "        caracteristicas=produto[\"produtos\"]\n",
    "        temporario=pd.DataFrame(caracteristicas)\n",
    "        temporario=pd.concat([temporario,infos_adicionais], axis=1)\n",
    "        df_temp=pd.concat([df_temp,temporario], ignore_index=True)\n",
    "\n",
    "    df_produtos=pd.concat([df_produtos,df_temp], ignore_index=True)\n",
    "\n",
    "\n",
    "    df_produtos[\"data_hora_realizacao\"]=pd.to_datetime(df_produtos[\"data_hora_realizacao\"])\n",
    "\n",
    "\n",
    "\n",
    "\n",
    "\n",
    "\n",
    "df_produtos\n"
   ]
  },
  {
   "cell_type": "markdown",
   "metadata": {},
   "source": [
    "TESTE"
   ]
  },
  {
   "cell_type": "code",
   "execution_count": 18,
   "metadata": {},
   "outputs": [
    {
     "data": {
      "text/html": [
       "<div>\n",
       "<style scoped>\n",
       "    .dataframe tbody tr th:only-of-type {\n",
       "        vertical-align: middle;\n",
       "    }\n",
       "\n",
       "    .dataframe tbody tr th {\n",
       "        vertical-align: top;\n",
       "    }\n",
       "\n",
       "    .dataframe thead th {\n",
       "        text-align: right;\n",
       "    }\n",
       "</style>\n",
       "<table border=\"1\" class=\"dataframe\">\n",
       "  <thead>\n",
       "    <tr style=\"text-align: right;\">\n",
       "      <th></th>\n",
       "      <th>categoria_produto</th>\n",
       "      <th>cod_produto</th>\n",
       "      <th>produto</th>\n",
       "      <th>fabricante</th>\n",
       "      <th>quantidade</th>\n",
       "      <th>valor_unitario</th>\n",
       "      <th>valor_total</th>\n",
       "      <th>codigo_evento</th>\n",
       "      <th>nome_evento</th>\n",
       "      <th>data_hora_realizacao</th>\n",
       "      <th>documento_cliente</th>\n",
       "    </tr>\n",
       "  </thead>\n",
       "  <tbody>\n",
       "    <tr>\n",
       "      <th>0</th>\n",
       "      <td>Bebida</td>\n",
       "      <td>21018</td>\n",
       "      <td>CHOPP</td>\n",
       "      <td>None</td>\n",
       "      <td>1</td>\n",
       "      <td>18.0</td>\n",
       "      <td>18.0</td>\n",
       "      <td>15740</td>\n",
       "      <td>TARDEZINHA CAMPINAS 2023</td>\n",
       "      <td>2023-07-15 12:00:03</td>\n",
       "      <td>ANTONIO</td>\n",
       "    </tr>\n",
       "    <tr>\n",
       "      <th>1</th>\n",
       "      <td>Caixa</td>\n",
       "      <td>None</td>\n",
       "      <td>Ativ. + Rec.</td>\n",
       "      <td>None</td>\n",
       "      <td>1</td>\n",
       "      <td>200.0</td>\n",
       "      <td>200.0</td>\n",
       "      <td>15740</td>\n",
       "      <td>TARDEZINHA CAMPINAS 2023</td>\n",
       "      <td>2023-07-15 12:52:40</td>\n",
       "      <td>28478543805</td>\n",
       "    </tr>\n",
       "    <tr>\n",
       "      <th>2</th>\n",
       "      <td>Caixa</td>\n",
       "      <td>None</td>\n",
       "      <td>Ativ. + Rec.</td>\n",
       "      <td>None</td>\n",
       "      <td>1</td>\n",
       "      <td>43.0</td>\n",
       "      <td>43.0</td>\n",
       "      <td>15740</td>\n",
       "      <td>TARDEZINHA CAMPINAS 2023</td>\n",
       "      <td>2023-07-15 12:59:50</td>\n",
       "      <td>10199815631</td>\n",
       "    </tr>\n",
       "    <tr>\n",
       "      <th>3</th>\n",
       "      <td>Bebida</td>\n",
       "      <td>21018</td>\n",
       "      <td>CHOPP</td>\n",
       "      <td>None</td>\n",
       "      <td>100</td>\n",
       "      <td>18.0</td>\n",
       "      <td>1800.0</td>\n",
       "      <td>15740</td>\n",
       "      <td>TARDEZINHA CAMPINAS 2023</td>\n",
       "      <td>2023-07-15 13:01:19</td>\n",
       "      <td>AVERA</td>\n",
       "    </tr>\n",
       "    <tr>\n",
       "      <th>4</th>\n",
       "      <td>Comida</td>\n",
       "      <td>7374</td>\n",
       "      <td>BACON CHEDDAR</td>\n",
       "      <td>None</td>\n",
       "      <td>1</td>\n",
       "      <td>48.0</td>\n",
       "      <td>48.0</td>\n",
       "      <td>15740</td>\n",
       "      <td>TARDEZINHA CAMPINAS 2023</td>\n",
       "      <td>2023-07-15 13:01:35</td>\n",
       "      <td>28478543805</td>\n",
       "    </tr>\n",
       "    <tr>\n",
       "      <th>...</th>\n",
       "      <td>...</td>\n",
       "      <td>...</td>\n",
       "      <td>...</td>\n",
       "      <td>...</td>\n",
       "      <td>...</td>\n",
       "      <td>...</td>\n",
       "      <td>...</td>\n",
       "      <td>...</td>\n",
       "      <td>...</td>\n",
       "      <td>...</td>\n",
       "      <td>...</td>\n",
       "    </tr>\n",
       "    <tr>\n",
       "      <th>133377</th>\n",
       "      <td>Bebida</td>\n",
       "      <td>5184</td>\n",
       "      <td>Devolução Produto</td>\n",
       "      <td>None</td>\n",
       "      <td>1</td>\n",
       "      <td>0.0</td>\n",
       "      <td>0.0</td>\n",
       "      <td>15740</td>\n",
       "      <td>TARDEZINHA CAMPINAS 2023</td>\n",
       "      <td>2023-07-16 00:46:34</td>\n",
       "      <td>22105966888</td>\n",
       "    </tr>\n",
       "    <tr>\n",
       "      <th>133378</th>\n",
       "      <td>Bebida</td>\n",
       "      <td>155105</td>\n",
       "      <td>CB WHISKY RB</td>\n",
       "      <td>None</td>\n",
       "      <td>1</td>\n",
       "      <td>670.0</td>\n",
       "      <td>670.0</td>\n",
       "      <td>15740</td>\n",
       "      <td>TARDEZINHA CAMPINAS 2023</td>\n",
       "      <td>2023-07-15 18:24:09</td>\n",
       "      <td>13426987899</td>\n",
       "    </tr>\n",
       "    <tr>\n",
       "      <th>133379</th>\n",
       "      <td>Bebida</td>\n",
       "      <td>122195</td>\n",
       "      <td>CB VODKA RB</td>\n",
       "      <td>None</td>\n",
       "      <td>1</td>\n",
       "      <td>670.0</td>\n",
       "      <td>670.0</td>\n",
       "      <td>15740</td>\n",
       "      <td>TARDEZINHA CAMPINAS 2023</td>\n",
       "      <td>2023-07-15 18:47:06</td>\n",
       "      <td>34376782807</td>\n",
       "    </tr>\n",
       "    <tr>\n",
       "      <th>133380</th>\n",
       "      <td>Bebida</td>\n",
       "      <td>122195</td>\n",
       "      <td>CB VODKA RB</td>\n",
       "      <td>None</td>\n",
       "      <td>1</td>\n",
       "      <td>670.0</td>\n",
       "      <td>670.0</td>\n",
       "      <td>15740</td>\n",
       "      <td>TARDEZINHA CAMPINAS 2023</td>\n",
       "      <td>2023-07-15 19:02:36</td>\n",
       "      <td>43376043833</td>\n",
       "    </tr>\n",
       "    <tr>\n",
       "      <th>133381</th>\n",
       "      <td>Bebida</td>\n",
       "      <td>17412</td>\n",
       "      <td>CB GIN TONICA</td>\n",
       "      <td>None</td>\n",
       "      <td>1</td>\n",
       "      <td>670.0</td>\n",
       "      <td>670.0</td>\n",
       "      <td>15740</td>\n",
       "      <td>TARDEZINHA CAMPINAS 2023</td>\n",
       "      <td>2023-07-15 19:04:02</td>\n",
       "      <td>41698166842</td>\n",
       "    </tr>\n",
       "  </tbody>\n",
       "</table>\n",
       "<p>133382 rows × 11 columns</p>\n",
       "</div>"
      ],
      "text/plain": [
       "       categoria_produto cod_produto            produto fabricante  \\\n",
       "0                 Bebida       21018              CHOPP       None   \n",
       "1                  Caixa        None       Ativ. + Rec.       None   \n",
       "2                  Caixa        None       Ativ. + Rec.       None   \n",
       "3                 Bebida       21018              CHOPP       None   \n",
       "4                 Comida        7374      BACON CHEDDAR       None   \n",
       "...                  ...         ...                ...        ...   \n",
       "133377            Bebida        5184  Devolução Produto       None   \n",
       "133378            Bebida      155105       CB WHISKY RB       None   \n",
       "133379            Bebida      122195        CB VODKA RB       None   \n",
       "133380            Bebida      122195        CB VODKA RB       None   \n",
       "133381            Bebida       17412      CB GIN TONICA       None   \n",
       "\n",
       "        quantidade  valor_unitario  valor_total  codigo_evento  \\\n",
       "0                1            18.0         18.0          15740   \n",
       "1                1           200.0        200.0          15740   \n",
       "2                1            43.0         43.0          15740   \n",
       "3              100            18.0       1800.0          15740   \n",
       "4                1            48.0         48.0          15740   \n",
       "...            ...             ...          ...            ...   \n",
       "133377           1             0.0          0.0          15740   \n",
       "133378           1           670.0        670.0          15740   \n",
       "133379           1           670.0        670.0          15740   \n",
       "133380           1           670.0        670.0          15740   \n",
       "133381           1           670.0        670.0          15740   \n",
       "\n",
       "                     nome_evento data_hora_realizacao documento_cliente  \n",
       "0       TARDEZINHA CAMPINAS 2023  2023-07-15 12:00:03           ANTONIO  \n",
       "1       TARDEZINHA CAMPINAS 2023  2023-07-15 12:52:40       28478543805  \n",
       "2       TARDEZINHA CAMPINAS 2023  2023-07-15 12:59:50       10199815631  \n",
       "3       TARDEZINHA CAMPINAS 2023  2023-07-15 13:01:19             AVERA  \n",
       "4       TARDEZINHA CAMPINAS 2023  2023-07-15 13:01:35       28478543805  \n",
       "...                          ...                  ...               ...  \n",
       "133377  TARDEZINHA CAMPINAS 2023  2023-07-16 00:46:34       22105966888  \n",
       "133378  TARDEZINHA CAMPINAS 2023  2023-07-15 18:24:09       13426987899  \n",
       "133379  TARDEZINHA CAMPINAS 2023  2023-07-15 18:47:06       34376782807  \n",
       "133380  TARDEZINHA CAMPINAS 2023  2023-07-15 19:02:36       43376043833  \n",
       "133381  TARDEZINHA CAMPINAS 2023  2023-07-15 19:04:02       41698166842  \n",
       "\n",
       "[133382 rows x 11 columns]"
      ]
     },
     "execution_count": 18,
     "metadata": {},
     "output_type": "execute_result"
    }
   ],
   "source": [
    "df_produtos"
   ]
  },
  {
   "cell_type": "code",
   "execution_count": 19,
   "metadata": {},
   "outputs": [],
   "source": [
    "df_produtos[\"Hora\"]=df_produtos[\"data_hora_realizacao\"].dt.strftime('%H')"
   ]
  },
  {
   "cell_type": "code",
   "execution_count": 20,
   "metadata": {},
   "outputs": [
    {
     "data": {
      "text/plain": [
       "<Axes: >"
      ]
     },
     "execution_count": 20,
     "metadata": {},
     "output_type": "execute_result"
    },
    {
     "data": {
      "image/png": "[encoded data removed]",
      "text/plain": [
       "<Figure size 640x480 with 1 Axes>"
      ]
     },
     "metadata": {},
     "output_type": "display_data"
    }
   ],
   "source": [
    "df_produtos[\"Hora\"].hist()"
   ]
  },
  {
   "cell_type": "code",
   "execution_count": null,
   "metadata": {},
   "outputs": [],
   "source": []
  }
 ],
 "metadata": {
  "kernelspec": {
   "display_name": "base",
   "language": "python",
   "name": "python3"
  },
  "language_info": {
   "codemirror_mode": {
    "name": "ipython",
    "version": 3
   },
   "file_extension": ".py",
   "mimetype": "text/x-python",
   "name": "python",
   "nbconvert_exporter": "python",
   "pygments_lexer": "ipython3",
   "version": "3.11.7"
  }
 },
 "nbformat": 4,
 "nbformat_minor": 2
}
