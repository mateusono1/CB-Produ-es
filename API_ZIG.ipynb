{
 "cells": [
  {
   "cell_type": "code",
   "execution_count": 2,
   "metadata": {},
   "outputs": [],
   "source": [
    "import pandas as pd\n",
    "import requests\n",
    "import json"
   ]
  },
  {
   "cell_type": "code",
   "execution_count": 4,
   "metadata": {},
   "outputs": [
    {
     "name": "stdout",
     "output_type": "stream",
     "text": [
<<<<<<< HEAD
      "Erro: 400 - {\"message\":\"Token inválido\",\"type\":\"InvalidToken\"}\n"
=======
      "Login successful!\n",
      "{'ok': True}\n"
>>>>>>> 90cda71 (Versão (quase)funcionando)
     ]
    }
   ],
   "source": [
    "import requests\n",
    "\n",
<<<<<<< HEAD
    "# Defina a URL base do seu endpoint\n",
    "url = \"https://api.zigcore.com.br/integration/erp/lojas\"\n",
    "\n",
    "# Substitua esses valores pelos reais\n",
    "token_de_autenticacao = \"hlqFYMUrmLX9NGTd07jC5ZjxLRKsOfqh\"\n",
    "rede = \"152f5dc6-0f40-4668-880b-b8a8d51c4120\"\n",
    "\n",
    "# Configurando o cabeçalho da requisição\n",
    "headers = {\n",
    "    \"Authorization\": f\"Bearer {token_de_autenticacao}\",\n",
    "    \"Content-Type\": \"application/json\"  # Dependendo da API, esse cabeçalho pode variar\n",
    "}\n",
    "\n",
    "# Fazendo a requisição GET com o parâmetro `rede`\n",
    "response = requests.get(url, headers=headers, params={\"rede\": rede})\n",
    "\n",
    "# Verificando se a requisição foi bem-sucedida\n",
    "if response.status_code == 200:\n",
    "    lojas = response.json()  # Assumindo que a resposta esteja em JSON\n",
    "    print(lojas)  # Aqui você pode trabalhar com os dados recebidos\n",
    "else:\n",
    "    print(f\"Erro: {response.status_code} - {response.text}\")\n"
=======
    "# Your API credentials and URL\n",
    "api_url = \"https://api.zigcore.com.br/integration\"\n",
    "token = \"hlqFYMUrmLX9NGTd07jC5ZjxLRKsOfqh\"\n",
    "\n",
    "# Define headers for the request\n",
    "headers = {\n",
    "    \"Authorization\": f\"Bearer {token}\",\n",
    "    \"Content-Type\": \"application/json\"\n",
    "}\n",
    "\n",
    "# Making a GET request to the API to verify login\n",
    "response = requests.get(api_url, headers=headers)\n",
    "\n",
    "# Checking the response status code and the response data\n",
    "if response.status_code == 200:\n",
    "    print(\"Login successful!\")\n",
    "    print(response.json())  # Print response data which may include more details\n",
    "else:\n",
    "    print(f\"Login failed with status code {response.status_code}\")\n",
    "    print(response.text)  # Print the error response"
>>>>>>> 90cda71 (Versão (quase)funcionando)
   ]
  },
  {
   "cell_type": "code",
   "execution_count": 8,
   "metadata": {},
   "outputs": [
    {
     "name": "stdout",
     "output_type": "stream",
     "text": [
      "Failed to fetch stores: 400 {\"message\":\"Token inválido\",\"type\":\"InvalidToken\"}\n"
     ]
    }
   ],
   "source": [
    "import requests\n",
    "\n",
    "# API credentials and URL\n",
    "api_url = \"https://api.zigcore.com.br/integration/erp/lojas\"\n",
    "rede = \"152f5dc6-0f40-4668-880b-b8a8d51c4120\"\n",
    "token = \"hlqFYMUrmLX9NGTd07jC5ZjxLRKsOfqh\"\n",
    "\n",
    "# Headers with authorization\n",
    "headers = {\n",
    "    \"Authorization\": f\"Bearer {token}\"\n",
    "}\n",
    "\n",
    "# Make a GET request to fetch list of stores\n",
    "response = requests.get(f\"{api_url}?rede={rede}\", headers=headers)\n",
    "\n",
    "# Check response\n",
    "if response.status_code == 200:\n",
    "    stores = response.json()  # Parse the JSON response into a dictionary\n",
    "    print(\"Stores:\", stores)\n",
    "else:\n",
    "    print(\"Failed to fetch stores:\", response.status_code, response.text)"
   ]
  },
  {
   "cell_type": "code",
   "execution_count": null,
   "metadata": {},
   "outputs": [],
   "source": []
  }
 ],
 "metadata": {
  "kernelspec": {
   "display_name": "base",
   "language": "python",
   "name": "python3"
  },
  "language_info": {
   "codemirror_mode": {
    "name": "ipython",
    "version": 3
   },
   "file_extension": ".py",
   "mimetype": "text/x-python",
   "name": "python",
   "nbconvert_exporter": "python",
   "pygments_lexer": "ipython3",
<<<<<<< HEAD
   "version": "3.11.7"
=======
   "version": "3.9.6"
>>>>>>> 90cda71 (Versão (quase)funcionando)
  }
 },
 "nbformat": 4,
 "nbformat_minor": 2
}
