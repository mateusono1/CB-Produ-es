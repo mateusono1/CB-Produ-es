{
 "cells": [
  {
   "cell_type": "code",
   "execution_count": 17,
   "metadata": {},
   "outputs": [],
   "source": [
    "import pandas as pd\n",
    "import requests\n",
    "import json\n",
    "import matplotlib.pyplot as plt\n",
    "import seaborn as sns\n",
    "import numpy as np\n",
    "import time"
   ]
  },
  {
   "cell_type": "code",
   "execution_count": 18,
   "metadata": {},
   "outputs": [],
   "source": [
    "pd.set_option('display.max_columns', None)"
   ]
  },
  {
   "cell_type": "code",
   "execution_count": 19,
   "metadata": {},
   "outputs": [
    {
     "data": {
      "text/plain": [
       "' import requests\\n\\n# Your API credentials and URL\\napi_url = \"https://api.zigcore.com.br/integration\"\\ntoken = \"hlqFYMUrmLX9NGTd07jC5ZjxLRKsOfqh\"\\n\\n# Define headers for the request\\nheaders = {\\n    \"Authorization\": f\"{token}\",\\n    \"Content-Type\": \"application/json\"\\n}\\n\\n# Making a GET request to the API to verify login\\nresponse = requests.get(api_url, headers=headers)\\n\\n# Checking the response status code and the response data\\nif response.status_code == 200:\\n    print(\"Login successful!\")\\n    print(response.json())  # Print response data which may include more details\\nelse:\\n    print(f\"Login failed with status code {response.status_code}\")\\n    print(response.text)  # Print the error response '"
      ]
     },
     "execution_count": 19,
     "metadata": {},
     "output_type": "execute_result"
    }
   ],
   "source": [
    "\"\"\" import requests\n",
    "\n",
    "# Your API credentials and URL\n",
    "api_url = \"https://api.zigcore.com.br/integration\"\n",
    "token = \"hlqFYMUrmLX9NGTd07jC5ZjxLRKsOfqh\"\n",
    "\n",
    "# Define headers for the request\n",
    "headers = {\n",
    "    \"Authorization\": f\"{token}\",\n",
    "    \"Content-Type\": \"application/json\"\n",
    "}\n",
    "\n",
    "# Making a GET request to the API to verify login\n",
    "response = requests.get(api_url, headers=headers)\n",
    "\n",
    "# Checking the response status code and the response data\n",
    "if response.status_code == 200:\n",
    "    print(\"Login successful!\")\n",
    "    print(response.json())  # Print response data which may include more details\n",
    "else:\n",
    "    print(f\"Login failed with status code {response.status_code}\")\n",
    "    print(response.text)  # Print the error response \"\"\""
   ]
  },
  {
   "cell_type": "code",
   "execution_count": 20,
   "metadata": {},
   "outputs": [
    {
     "data": {
      "text/plain": [
       "' # Tardezinha\\nimport requests\\n\\napi_url = \"https://api.zigcore.com.br/integration\"\\nrede = \"6385fff0-2ef9-421e-a0d8-497223f639e8\"\\ntoken = \"wAfg8jrWPnpEjG6qTPo3EjAzyuTjhrMB\"\\n\\n\\nheaders = {\\n    \"Authorization\": f\"{token}\"\\n}\\n\\n\\nresponse = requests.get(f\"{api_url}/erp/lojas?rede={rede}\", headers=headers)\\n\\nprint(f\"{api_url}?rede={rede}\")\\n\\n# Check response\\nif response.status_code == 200:\\n    stores = response.json()  \\n    print(\"Stores:\", stores)\\nelse:\\n    print(\"Failed to fetch stores:\", response.status_code, response.text) '"
      ]
     },
     "execution_count": 20,
     "metadata": {},
     "output_type": "execute_result"
    }
   ],
   "source": [
    "\"\"\" # Tardezinha\n",
    "import requests\n",
    "\n",
    "api_url = \"https://api.zigcore.com.br/integration\"\n",
    "rede = \"6385fff0-2ef9-421e-a0d8-497223f639e8\"\n",
    "token = \"wAfg8jrWPnpEjG6qTPo3EjAzyuTjhrMB\"\n",
    "\n",
    "\n",
    "headers = {\n",
    "    \"Authorization\": f\"{token}\"\n",
    "}\n",
    "\n",
    "\n",
    "response = requests.get(f\"{api_url}/erp/lojas?rede={rede}\", headers=headers)\n",
    "\n",
    "print(f\"{api_url}?rede={rede}\")\n",
    "\n",
    "# Check response\n",
    "if response.status_code == 200:\n",
    "    stores = response.json()  \n",
    "    print(\"Stores:\", stores)\n",
    "else:\n",
    "    print(\"Failed to fetch stores:\", response.status_code, response.text) \"\"\""
   ]
  },
  {
   "cell_type": "code",
   "execution_count": 21,
   "metadata": {},
   "outputs": [
    {
     "data": {
      "text/plain": [
       "' \\n# Tardezinha Ribeirão Preto 2 de dezembro de 2023\\n\\n\\n\\n\\n\\n\\napi_url = \"https://api.zigcore.com.br/integration/erp/saida-produtos\"\\ntoken = \"wAfg8jrWPnpEjG6qTPo3EjAzyuTjhrMB\" #Token novo. Funcionou para puxar as lojas\\n\\nparams = {\\n    \\'dtinicio\\': \\'2023-12-01\\',\\n    \\'dtfim\\': \\'2023-12-10\\',\\n    \\'loja\\': \\'a08c4832-1e70-435b-ad01-6a4d41dc5785\\', #ID da Tardezinha RBP 2023\\n    \\'refund\\': \\'false\\'\\n}\\n\\n\\nheaders = {\\n    \"Authorization\": f\"{token}\",\\n    \"Content-Type\": \"application/json\"\\n}\\n\\n\\nresponse = requests.get(api_url, headers=headers, params=params)\\n\\n#df=pd.DataFrame(response.json())\\nresponse.json() '"
      ]
     },
     "execution_count": 21,
     "metadata": {},
     "output_type": "execute_result"
    }
   ],
   "source": [
    "\"\"\" \n",
    "# Tardezinha Ribeirão Preto 2 de dezembro de 2023\n",
    "\n",
    "\n",
    "\n",
    "\n",
    "\n",
    "\n",
    "api_url = \"https://api.zigcore.com.br/integration/erp/saida-produtos\"\n",
    "token = \"wAfg8jrWPnpEjG6qTPo3EjAzyuTjhrMB\" #Token novo. Funcionou para puxar as lojas\n",
    "\n",
    "params = {\n",
    "    'dtinicio': '2023-12-01',\n",
    "    'dtfim': '2023-12-10',\n",
    "    'loja': 'a08c4832-1e70-435b-ad01-6a4d41dc5785', #ID da Tardezinha RBP 2023\n",
    "    'refund': 'false'\n",
    "}\n",
    "\n",
    "\n",
    "headers = {\n",
    "    \"Authorization\": f\"{token}\",\n",
    "    \"Content-Type\": \"application/json\"\n",
    "}\n",
    "\n",
    "\n",
    "response = requests.get(api_url, headers=headers, params=params)\n",
    "\n",
    "#df=pd.DataFrame(response.json())\n",
    "response.json() \"\"\""
   ]
  },
  {
   "cell_type": "code",
   "execution_count": 22,
   "metadata": {},
   "outputs": [
    {
     "data": {
      "text/plain": [
       "' df=pd.DataFrame(response.json())\\ndf '"
      ]
     },
     "execution_count": 22,
     "metadata": {},
     "output_type": "execute_result"
    }
   ],
   "source": [
    "# tardezinha campinas - 15 de julho 2023\n",
    "\n",
    "\n",
    "\"\"\" \n",
    "start_date = '2024-07-15'\n",
    "end_date = '2024-07-15'\n",
    "\n",
    "\n",
    "api_url = \"https://api.zigcore.com.br/integration/erp/saida-produtos\"\n",
    "token = \"wAfg8jrWPnpEjG6qTPo3EjAzyuTjhrMB\"\n",
    "\n",
    "params = {\n",
    "    'dtinicio': start_date,\n",
    "    'dtfim': end_date,\n",
    "    'loja': 'c87690d5-c387-410c-b39c-feb680e63c94', #ID que já achamos\n",
    "    'refunded': 'false'\n",
    "}\n",
    "\n",
    "\n",
    "headers = {\n",
    "    \"Authorization\": f\"{token}\",\n",
    "    \"Content-Type\": \"application/json\"\n",
    "}\n",
    "\n",
    "\n",
    "response = requests.get(api_url, headers=headers, params=params) \"\"\"\n",
    "\"\"\" if response.status_code == 200:\n",
    "    print(f\"Data for {params['dtinicio']} to {params['dtfim']}:\", response.json())\n",
    "else:\n",
    "    print(f\"Failed for {params['dtinicio']} to {params['dtfim']}:\", response.status_code, response.text) \"\"\"\n",
    "\"\"\" df=pd.DataFrame(response.json())\n",
    "df \"\"\""
   ]
  },
  {
   "cell_type": "markdown",
   "metadata": {},
   "source": [
    "- - - "
   ]
  },
  {
   "cell_type": "markdown",
   "metadata": {},
   "source": [
    "# Outro Token\n"
   ]
  },
  {
   "cell_type": "code",
   "execution_count": 23,
   "metadata": {},
   "outputs": [
    {
     "data": {
      "text/plain": [
       "' import requests\\n\\napi_url = \"https://api.zigcore.com.br/integration\"\\nrede = \"152f5dc6-0f40-4668-880b-b8a8d51c4120\"\\ntoken = \"hlqFYMUrmLX9NGTd07jC5ZjxLRKsOfqh\"\\n\\n\\nheaders = {\\n    \"Authorization\": f\"{token}\"\\n}\\n\\n\\nresponse = requests.get(f\"{api_url}/erp/lojas?rede={rede}\", headers=headers)\\n\\nprint(f\"{api_url}?rede={rede}\")\\n\\n# Check response\\nif response.status_code == 200:\\n    stores = response.json()  \\n    print(\"Stores:\", stores)\\nelse:\\n    print(\"Failed to fetch stores:\", response.status_code, response.text) '"
      ]
     },
     "execution_count": 23,
     "metadata": {},
     "output_type": "execute_result"
    }
   ],
   "source": [
    "\"\"\" import requests\n",
    "\n",
    "api_url = \"https://api.zigcore.com.br/integration\"\n",
    "rede = \"152f5dc6-0f40-4668-880b-b8a8d51c4120\"\n",
    "token = \"hlqFYMUrmLX9NGTd07jC5ZjxLRKsOfqh\"\n",
    "\n",
    "\n",
    "headers = {\n",
    "    \"Authorization\": f\"{token}\"\n",
    "}\n",
    "\n",
    "\n",
    "response = requests.get(f\"{api_url}/erp/lojas?rede={rede}\", headers=headers)\n",
    "\n",
    "print(f\"{api_url}?rede={rede}\")\n",
    "\n",
    "# Check response\n",
    "if response.status_code == 200:\n",
    "    stores = response.json()  \n",
    "    print(\"Stores:\", stores)\n",
    "else:\n",
    "    print(\"Failed to fetch stores:\", response.status_code, response.text) \"\"\""
   ]
  },
  {
   "cell_type": "markdown",
   "metadata": {},
   "source": [
    "# Trapist"
   ]
  },
  {
   "cell_type": "code",
   "execution_count": 24,
   "metadata": {},
   "outputs": [
    {
     "data": {
      "text/plain": [
       "' todos_produtos=pd.DataFrame()\\ntodos_faturamentos=pd.DataFrame()\\ntodas_recargas=pd.DataFrame() '"
      ]
     },
     "execution_count": 24,
     "metadata": {},
     "output_type": "execute_result"
    }
   ],
   "source": [
    "\"\"\" todos_produtos=pd.DataFrame()\n",
    "todos_faturamentos=pd.DataFrame()\n",
    "todas_recargas=pd.DataFrame() \"\"\""
   ]
  },
  {
   "cell_type": "code",
   "execution_count": 25,
   "metadata": {},
   "outputs": [
    {
     "data": {
      "text/plain": [
       "' #Tardezinha 15 de Julho de 2023\\n#Trapist 9 de março de 2024\\n# SOweto 27 de Julho de 2024\\n\\n\\n\\nstart_date = \\'2024-03-08\\'\\nend_date = \\'2024-03-10\\'\\nid_loja=\\'3123a77b-2730-4b44-ab69-24bba879c56b\\'\\n\\n\\ntoken = \"hlqFYMUrmLX9NGTd07jC5ZjxLRKsOfqh\"\\n\\n\\n\\n\\n\\n\\n\\n#PRODUTOS\\n\\n\\napi_url = \"https://api.zigcore.com.br/integration/erp/saida-produtos\"\\n\\n\\nparams = {\\n    \\'dtinicio\\': start_date,\\n    \\'dtfim\\': end_date,\\n    \\'loja\\': id_loja, #ID que já achamos\\n    \\'refunded\\': \\'false\\'\\n}\\n\\n\\nheaders = {\\n    \"Authorization\": f\"{token}\",\\n    \"Content-Type\": \"application/json\"\\n}\\n\\n\\nresponse_produtos = requests.get(api_url, headers=headers, params=params)\\n\\nprodutos=pd.DataFrame(response_produtos.json())\\nprodutos= produtos[[\"transactionDate\",\"unitValue\",\"count\",\"productName\",\"productCategory\",\"eventName\",\"employeeName\"]]\\nprodutos=produtos.rename(columns={\"transactionDate\":\"Data e Hora\",\"unitValue\":\"Soma de price\",\"count\":\"Quantidade\",\"productName\":\"product_name\",\"eventName\":\"Evento\",\"employeeName\":\"PDV\"})\\n\\n#Criando coluna para avaliar as vendas durante o evento\\nprodutos[\"Data e Hora\"]=pd.to_datetime(produtos[\"Data e Hora\"])\\nprodutos[\"Hora\"]=produtos[\"Data e Hora\"].dt.strftime(\\'%Y-%m-%d %H\\')\\n\\n#Formatando a coluna de Soma de price\\nprodutos[\"Soma de price\"]=produtos[\"Soma de price\"]/100\\n\\ntodos_produtos=pd.concat([todos_produtos,produtos], ignore_index=True)\\n\\n\\n\\n\\n\\n#FATURAMENTO\\n\\napi_url = \"https://api.zigcore.com.br/integration/erp/faturamento\"\\n\\nparams = {\\n    \\'dtinicio\\': start_date,\\n    \\'dtfim\\': end_date,\\n    \\'loja\\': id_loja\\n}\\n\\n\\nheaders = {\\n    \"Authorization\": f\"{token}\",\\n    \"Content-Type\": \"application/json\"\\n}\\n\\n\\nresponse_faturamento = requests.get(api_url, headers=headers, params=params)\\n\\nfaturamento=pd.DataFrame(response_faturamento.json())\\nfaturamento=faturamento[[\"paymentName\",\"value\"]]\\n\\n\\n#Corrigindo os valores\\nfaturamento[\"value\"]=faturamento[\"value\"]/100\\n\\n\\ntodos_faturamentos=pd.concat([todos_faturamentos,faturamento], ignore_index=True)\\n\\n\\n\\n\\n#RECARGAS\\n\\napi_url = \"https://api.zigcore.com.br/integration/erp/recharges\"\\ntoken = \"hlqFYMUrmLX9NGTd07jC5ZjxLRKsOfqh\"\\n\\nparams = {\\n    \\'dtinicio\\': start_date,\\n    \\'dtfim\\': end_date,\\n    \\'loja\\': id_loja\\n}\\n\\n\\nheaders = {\\n    \"Authorization\": f\"{token}\",\\n    \"Content-Type\": \"application/json\"\\n}\\n\\n\\nresponse_recarga = requests.get(api_url, headers=headers, params=params)\\n\\nrecarga=pd.DataFrame(response_recarga.json())\\n\\nrecarga=recarga[[\"date\",\"author\",\"totalValue\",\"userDocument\",\"userDocumentType\",\"userName\"]]\\n\\n#Corrigindo os valores\\nrecarga[\"totalValue\"]= recarga[\"totalValue\"]/100\\n\\n#Valores das datas\\nrecarga[\"date\"]=pd.to_datetime(recarga[\"date\"])\\nrecarga[\"Dia + Hora\"]=recarga[\"date\"].dt.strftime(\\'%Y-%m-%d %H\\')\\n\\ntodas_recargas=pd.concat([todas_recargas,recarga], ignore_index=True)\\n\\n\\n\\n\\n '"
      ]
     },
     "execution_count": 25,
     "metadata": {},
     "output_type": "execute_result"
    }
   ],
   "source": [
    "\"\"\" #Tardezinha 15 de Julho de 2023\n",
    "#Trapist 9 de março de 2024\n",
    "# SOweto 27 de Julho de 2024\n",
    "\n",
    "\n",
    "\n",
    "start_date = '2024-03-08'\n",
    "end_date = '2024-03-10'\n",
    "id_loja='3123a77b-2730-4b44-ab69-24bba879c56b'\n",
    "\n",
    "\n",
    "token = \"hlqFYMUrmLX9NGTd07jC5ZjxLRKsOfqh\"\n",
    "\n",
    "\n",
    "\n",
    "\n",
    "\n",
    "\n",
    "\n",
    "#PRODUTOS\n",
    "\n",
    "\n",
    "api_url = \"https://api.zigcore.com.br/integration/erp/saida-produtos\"\n",
    "\n",
    "\n",
    "params = {\n",
    "    'dtinicio': start_date,\n",
    "    'dtfim': end_date,\n",
    "    'loja': id_loja, #ID que já achamos\n",
    "    'refunded': 'false'\n",
    "}\n",
    "\n",
    "\n",
    "headers = {\n",
    "    \"Authorization\": f\"{token}\",\n",
    "    \"Content-Type\": \"application/json\"\n",
    "}\n",
    "\n",
    "\n",
    "response_produtos = requests.get(api_url, headers=headers, params=params)\n",
    "\n",
    "produtos=pd.DataFrame(response_produtos.json())\n",
    "produtos= produtos[[\"transactionDate\",\"unitValue\",\"count\",\"productName\",\"productCategory\",\"eventName\",\"employeeName\"]]\n",
    "produtos=produtos.rename(columns={\"transactionDate\":\"Data e Hora\",\"unitValue\":\"Soma de price\",\"count\":\"Quantidade\",\"productName\":\"product_name\",\"eventName\":\"Evento\",\"employeeName\":\"PDV\"})\n",
    "\n",
    "#Criando coluna para avaliar as vendas durante o evento\n",
    "produtos[\"Data e Hora\"]=pd.to_datetime(produtos[\"Data e Hora\"])\n",
    "produtos[\"Hora\"]=produtos[\"Data e Hora\"].dt.strftime('%Y-%m-%d %H')\n",
    "\n",
    "#Formatando a coluna de Soma de price\n",
    "produtos[\"Soma de price\"]=produtos[\"Soma de price\"]/100\n",
    "\n",
    "todos_produtos=pd.concat([todos_produtos,produtos], ignore_index=True)\n",
    "\n",
    "\n",
    "\n",
    "\n",
    "\n",
    "#FATURAMENTO\n",
    "\n",
    "api_url = \"https://api.zigcore.com.br/integration/erp/faturamento\"\n",
    "\n",
    "params = {\n",
    "    'dtinicio': start_date,\n",
    "    'dtfim': end_date,\n",
    "    'loja': id_loja\n",
    "}\n",
    "\n",
    "\n",
    "headers = {\n",
    "    \"Authorization\": f\"{token}\",\n",
    "    \"Content-Type\": \"application/json\"\n",
    "}\n",
    "\n",
    "\n",
    "response_faturamento = requests.get(api_url, headers=headers, params=params)\n",
    "\n",
    "faturamento=pd.DataFrame(response_faturamento.json())\n",
    "faturamento=faturamento[[\"paymentName\",\"value\"]]\n",
    "\n",
    "\n",
    "#Corrigindo os valores\n",
    "faturamento[\"value\"]=faturamento[\"value\"]/100\n",
    "\n",
    "\n",
    "todos_faturamentos=pd.concat([todos_faturamentos,faturamento], ignore_index=True)\n",
    "\n",
    "\n",
    "\n",
    "\n",
    "#RECARGAS\n",
    "\n",
    "api_url = \"https://api.zigcore.com.br/integration/erp/recharges\"\n",
    "token = \"hlqFYMUrmLX9NGTd07jC5ZjxLRKsOfqh\"\n",
    "\n",
    "params = {\n",
    "    'dtinicio': start_date,\n",
    "    'dtfim': end_date,\n",
    "    'loja': id_loja\n",
    "}\n",
    "\n",
    "\n",
    "headers = {\n",
    "    \"Authorization\": f\"{token}\",\n",
    "    \"Content-Type\": \"application/json\"\n",
    "}\n",
    "\n",
    "\n",
    "response_recarga = requests.get(api_url, headers=headers, params=params)\n",
    "\n",
    "recarga=pd.DataFrame(response_recarga.json())\n",
    "\n",
    "recarga=recarga[[\"date\",\"author\",\"totalValue\",\"userDocument\",\"userDocumentType\",\"userName\"]]\n",
    "\n",
    "#Corrigindo os valores\n",
    "recarga[\"totalValue\"]= recarga[\"totalValue\"]/100\n",
    "\n",
    "#Valores das datas\n",
    "recarga[\"date\"]=pd.to_datetime(recarga[\"date\"])\n",
    "recarga[\"Dia + Hora\"]=recarga[\"date\"].dt.strftime('%Y-%m-%d %H')\n",
    "\n",
    "todas_recargas=pd.concat([todas_recargas,recarga], ignore_index=True)\n",
    "\n",
    "\n",
    "\n",
    "\n",
    " \"\"\""
   ]
  },
  {
   "cell_type": "code",
   "execution_count": 26,
   "metadata": {},
   "outputs": [
    {
     "data": {
      "text/plain": [
       "' todos_produtos\\n '"
      ]
     },
     "execution_count": 26,
     "metadata": {},
     "output_type": "execute_result"
    }
   ],
   "source": [
    "\"\"\" todos_produtos\n",
    " \"\"\""
   ]
  },
  {
   "cell_type": "code",
   "execution_count": 27,
   "metadata": {},
   "outputs": [
    {
     "data": {
      "text/plain": [
       "' todos_faturamentos '"
      ]
     },
     "execution_count": 27,
     "metadata": {},
     "output_type": "execute_result"
    }
   ],
   "source": [
    "\"\"\" todos_faturamentos \"\"\""
   ]
  },
  {
   "cell_type": "code",
   "execution_count": 28,
   "metadata": {},
   "outputs": [
    {
     "data": {
      "text/plain": [
       "' todas_recargas '"
      ]
     },
     "execution_count": 28,
     "metadata": {},
     "output_type": "execute_result"
    }
   ],
   "source": [
    "\"\"\" todas_recargas \"\"\""
   ]
  },
  {
   "cell_type": "markdown",
   "metadata": {},
   "source": [
    "- - - "
   ]
  },
  {
   "cell_type": "markdown",
   "metadata": {},
   "source": [
    "# Eventos que rodam em \"N\" (Tardezinhas e Soweto)"
   ]
  },
  {
   "cell_type": "code",
   "execution_count": 29,
   "metadata": {},
   "outputs": [],
   "source": [
    "import pandas as pd\n",
    "import requests\n",
    "import json\n",
    "import matplotlib.pyplot as plt\n",
    "import seaborn as sns\n",
    "import numpy as np\n",
    "import time\n",
    "from datetime import datetime, timedelta"
   ]
  },
  {
   "cell_type": "code",
   "execution_count": 30,
   "metadata": {},
   "outputs": [],
   "source": [
    "pd.set_option('display.max_columns', None)"
   ]
  },
  {
   "cell_type": "code",
   "execution_count": 31,
   "metadata": {},
   "outputs": [
    {
     "data": {
      "text/plain": [
       "'854852a1-5a09-4b19-b52d-5519e4594eb1'"
      ]
     },
     "execution_count": 31,
     "metadata": {},
     "output_type": "execute_result"
    }
   ],
   "source": [
    "#Geração do Token de acesso\n",
    "#Geração do Token de acesso\n",
    "\n",
    "\n",
    "#api_url = \"http://devapp.netpdv.info:5566/api/relatorios/GeraToken\"\n",
    "api_url= \"https://app.netpdv.com:5566/api/relatorios/GeraToken\"\n",
    "\n",
    "#tardezinha Campinas 15740\n",
    "#tardezinha RB  17990\n",
    "\n",
    "\n",
    "headers = {\n",
    "    \n",
    "    \"Content-Type\": \"text/plain\",\n",
    "    \"User-Agent\": \"PostmanRuntime/7.24.0\",\n",
    "    \"Accept\": \"*/*\",\n",
    "    \"Accept-Encoding\": \"gzip, deflate, br\",\n",
    "    \"Connection\": \"keep-alive\",\n",
    "    \"token_parceiro\": \"BCED47DAE6\",\n",
    "    \"Content-type\": \"application/json\"\n",
    "    \n",
    "\n",
    "}\n",
    "\n",
    "#Tardezinha Campinas\n",
    "body = {\n",
    "    'codigo_evento': 15740\n",
    "}\n",
    "\n",
    "\n",
    "\n",
    "\n",
    "response_token = requests.post(api_url, headers=headers, json=body)\n",
    "token_json=response_token.json()\n",
    "token=token_json['dados']['token_acesso']\n",
    "token\n",
    "\n"
   ]
  },
  {
   "cell_type": "markdown",
   "metadata": {},
   "source": [
    "{'codigo_retorno': 0,\n",
    " 'mensagem_erro': '',\n",
    " 'dados': {'token_acesso': 'string_de_acesso',\n",
    "  'data_expiracao': 'expira_em'}}"
   ]
  },
  {
   "cell_type": "code",
   "execution_count": 32,
   "metadata": {},
   "outputs": [
    {
     "name": "stdout",
     "output_type": "stream",
     "text": [
      "13:00:00\n",
      "14:00:00\n",
      "15:00:00\n",
      "16:00:00\n",
      "17:00:00\n",
      "18:00:00\n"
     ]
    },
    {
     "ename": "KeyboardInterrupt",
     "evalue": "",
     "output_type": "error",
     "traceback": [
      "\u001b[1;31m---------------------------------------------------------------------------\u001b[0m",
      "\u001b[1;31mKeyboardInterrupt\u001b[0m                         Traceback (most recent call last)",
      "Cell \u001b[1;32mIn[32], line 62\u001b[0m\n\u001b[0;32m     56\u001b[0m \u001b[38;5;66;03m#############################################\u001b[39;00m\n\u001b[0;32m     60\u001b[0m time\u001b[38;5;241m.\u001b[39msleep(\u001b[38;5;241m5\u001b[39m)\n\u001b[1;32m---> 62\u001b[0m response_transacoes \u001b[38;5;241m=\u001b[39m requests\u001b[38;5;241m.\u001b[39mpost(api_url, headers\u001b[38;5;241m=\u001b[39mheaders, json\u001b[38;5;241m=\u001b[39mbody)\n\u001b[0;32m     63\u001b[0m transacoes_json\u001b[38;5;241m=\u001b[39mresponse_transacoes\u001b[38;5;241m.\u001b[39mjson()\n\u001b[0;32m     67\u001b[0m produtos \u001b[38;5;241m=\u001b[39m transacoes_json[\u001b[38;5;124m\"\u001b[39m\u001b[38;5;124mdados\u001b[39m\u001b[38;5;124m\"\u001b[39m][\u001b[38;5;124m\"\u001b[39m\u001b[38;5;124mtransacoes\u001b[39m\u001b[38;5;124m\"\u001b[39m]\n",
      "File \u001b[1;32mc:\\Users\\monon\\anaconda3\\Lib\\site-packages\\requests\\api.py:115\u001b[0m, in \u001b[0;36mpost\u001b[1;34m(url, data, json, **kwargs)\u001b[0m\n\u001b[0;32m    103\u001b[0m \u001b[38;5;28;01mdef\u001b[39;00m \u001b[38;5;21mpost\u001b[39m(url, data\u001b[38;5;241m=\u001b[39m\u001b[38;5;28;01mNone\u001b[39;00m, json\u001b[38;5;241m=\u001b[39m\u001b[38;5;28;01mNone\u001b[39;00m, \u001b[38;5;241m*\u001b[39m\u001b[38;5;241m*\u001b[39mkwargs):\n\u001b[0;32m    104\u001b[0m \u001b[38;5;250m    \u001b[39m\u001b[38;5;124mr\u001b[39m\u001b[38;5;124;03m\"\"\"Sends a POST request.\u001b[39;00m\n\u001b[0;32m    105\u001b[0m \n\u001b[0;32m    106\u001b[0m \u001b[38;5;124;03m    :param url: URL for the new :class:`Request` object.\u001b[39;00m\n\u001b[1;32m   (...)\u001b[0m\n\u001b[0;32m    112\u001b[0m \u001b[38;5;124;03m    :rtype: requests.Response\u001b[39;00m\n\u001b[0;32m    113\u001b[0m \u001b[38;5;124;03m    \"\"\"\u001b[39;00m\n\u001b[1;32m--> 115\u001b[0m     \u001b[38;5;28;01mreturn\u001b[39;00m request(\u001b[38;5;124m\"\u001b[39m\u001b[38;5;124mpost\u001b[39m\u001b[38;5;124m\"\u001b[39m, url, data\u001b[38;5;241m=\u001b[39mdata, json\u001b[38;5;241m=\u001b[39mjson, \u001b[38;5;241m*\u001b[39m\u001b[38;5;241m*\u001b[39mkwargs)\n",
      "File \u001b[1;32mc:\\Users\\monon\\anaconda3\\Lib\\site-packages\\requests\\api.py:59\u001b[0m, in \u001b[0;36mrequest\u001b[1;34m(method, url, **kwargs)\u001b[0m\n\u001b[0;32m     55\u001b[0m \u001b[38;5;66;03m# By using the 'with' statement we are sure the session is closed, thus we\u001b[39;00m\n\u001b[0;32m     56\u001b[0m \u001b[38;5;66;03m# avoid leaving sockets open which can trigger a ResourceWarning in some\u001b[39;00m\n\u001b[0;32m     57\u001b[0m \u001b[38;5;66;03m# cases, and look like a memory leak in others.\u001b[39;00m\n\u001b[0;32m     58\u001b[0m \u001b[38;5;28;01mwith\u001b[39;00m sessions\u001b[38;5;241m.\u001b[39mSession() \u001b[38;5;28;01mas\u001b[39;00m session:\n\u001b[1;32m---> 59\u001b[0m     \u001b[38;5;28;01mreturn\u001b[39;00m session\u001b[38;5;241m.\u001b[39mrequest(method\u001b[38;5;241m=\u001b[39mmethod, url\u001b[38;5;241m=\u001b[39murl, \u001b[38;5;241m*\u001b[39m\u001b[38;5;241m*\u001b[39mkwargs)\n",
      "File \u001b[1;32mc:\\Users\\monon\\anaconda3\\Lib\\site-packages\\requests\\sessions.py:589\u001b[0m, in \u001b[0;36mSession.request\u001b[1;34m(self, method, url, params, data, headers, cookies, files, auth, timeout, allow_redirects, proxies, hooks, stream, verify, cert, json)\u001b[0m\n\u001b[0;32m    584\u001b[0m send_kwargs \u001b[38;5;241m=\u001b[39m {\n\u001b[0;32m    585\u001b[0m     \u001b[38;5;124m\"\u001b[39m\u001b[38;5;124mtimeout\u001b[39m\u001b[38;5;124m\"\u001b[39m: timeout,\n\u001b[0;32m    586\u001b[0m     \u001b[38;5;124m\"\u001b[39m\u001b[38;5;124mallow_redirects\u001b[39m\u001b[38;5;124m\"\u001b[39m: allow_redirects,\n\u001b[0;32m    587\u001b[0m }\n\u001b[0;32m    588\u001b[0m send_kwargs\u001b[38;5;241m.\u001b[39mupdate(settings)\n\u001b[1;32m--> 589\u001b[0m resp \u001b[38;5;241m=\u001b[39m \u001b[38;5;28mself\u001b[39m\u001b[38;5;241m.\u001b[39msend(prep, \u001b[38;5;241m*\u001b[39m\u001b[38;5;241m*\u001b[39msend_kwargs)\n\u001b[0;32m    591\u001b[0m \u001b[38;5;28;01mreturn\u001b[39;00m resp\n",
      "File \u001b[1;32mc:\\Users\\monon\\anaconda3\\Lib\\site-packages\\requests\\sessions.py:747\u001b[0m, in \u001b[0;36mSession.send\u001b[1;34m(self, request, **kwargs)\u001b[0m\n\u001b[0;32m    744\u001b[0m         \u001b[38;5;28;01mpass\u001b[39;00m\n\u001b[0;32m    746\u001b[0m \u001b[38;5;28;01mif\u001b[39;00m \u001b[38;5;129;01mnot\u001b[39;00m stream:\n\u001b[1;32m--> 747\u001b[0m     r\u001b[38;5;241m.\u001b[39mcontent\n\u001b[0;32m    749\u001b[0m \u001b[38;5;28;01mreturn\u001b[39;00m r\n",
      "File \u001b[1;32mc:\\Users\\monon\\anaconda3\\Lib\\site-packages\\requests\\models.py:899\u001b[0m, in \u001b[0;36mResponse.content\u001b[1;34m(self)\u001b[0m\n\u001b[0;32m    897\u001b[0m         \u001b[38;5;28mself\u001b[39m\u001b[38;5;241m.\u001b[39m_content \u001b[38;5;241m=\u001b[39m \u001b[38;5;28;01mNone\u001b[39;00m\n\u001b[0;32m    898\u001b[0m     \u001b[38;5;28;01melse\u001b[39;00m:\n\u001b[1;32m--> 899\u001b[0m         \u001b[38;5;28mself\u001b[39m\u001b[38;5;241m.\u001b[39m_content \u001b[38;5;241m=\u001b[39m \u001b[38;5;124mb\u001b[39m\u001b[38;5;124m\"\u001b[39m\u001b[38;5;124m\"\u001b[39m\u001b[38;5;241m.\u001b[39mjoin(\u001b[38;5;28mself\u001b[39m\u001b[38;5;241m.\u001b[39miter_content(CONTENT_CHUNK_SIZE)) \u001b[38;5;129;01mor\u001b[39;00m \u001b[38;5;124mb\u001b[39m\u001b[38;5;124m\"\u001b[39m\u001b[38;5;124m\"\u001b[39m\n\u001b[0;32m    901\u001b[0m \u001b[38;5;28mself\u001b[39m\u001b[38;5;241m.\u001b[39m_content_consumed \u001b[38;5;241m=\u001b[39m \u001b[38;5;28;01mTrue\u001b[39;00m\n\u001b[0;32m    902\u001b[0m \u001b[38;5;66;03m# don't need to release the connection; that's been handled by urllib3\u001b[39;00m\n\u001b[0;32m    903\u001b[0m \u001b[38;5;66;03m# since we exhausted the data.\u001b[39;00m\n",
      "File \u001b[1;32mc:\\Users\\monon\\anaconda3\\Lib\\site-packages\\requests\\models.py:816\u001b[0m, in \u001b[0;36mResponse.iter_content.<locals>.generate\u001b[1;34m()\u001b[0m\n\u001b[0;32m    814\u001b[0m \u001b[38;5;28;01mif\u001b[39;00m \u001b[38;5;28mhasattr\u001b[39m(\u001b[38;5;28mself\u001b[39m\u001b[38;5;241m.\u001b[39mraw, \u001b[38;5;124m\"\u001b[39m\u001b[38;5;124mstream\u001b[39m\u001b[38;5;124m\"\u001b[39m):\n\u001b[0;32m    815\u001b[0m     \u001b[38;5;28;01mtry\u001b[39;00m:\n\u001b[1;32m--> 816\u001b[0m         \u001b[38;5;28;01myield from\u001b[39;00m \u001b[38;5;28mself\u001b[39m\u001b[38;5;241m.\u001b[39mraw\u001b[38;5;241m.\u001b[39mstream(chunk_size, decode_content\u001b[38;5;241m=\u001b[39m\u001b[38;5;28;01mTrue\u001b[39;00m)\n\u001b[0;32m    817\u001b[0m     \u001b[38;5;28;01mexcept\u001b[39;00m ProtocolError \u001b[38;5;28;01mas\u001b[39;00m e:\n\u001b[0;32m    818\u001b[0m         \u001b[38;5;28;01mraise\u001b[39;00m ChunkedEncodingError(e)\n",
      "File \u001b[1;32mc:\\Users\\monon\\anaconda3\\Lib\\site-packages\\urllib3\\response.py:933\u001b[0m, in \u001b[0;36mHTTPResponse.stream\u001b[1;34m(self, amt, decode_content)\u001b[0m\n\u001b[0;32m    917\u001b[0m \u001b[38;5;250m\u001b[39m\u001b[38;5;124;03m\"\"\"\u001b[39;00m\n\u001b[0;32m    918\u001b[0m \u001b[38;5;124;03mA generator wrapper for the read() method. A call will block until\u001b[39;00m\n\u001b[0;32m    919\u001b[0m \u001b[38;5;124;03m``amt`` bytes have been read from the connection or until the\u001b[39;00m\n\u001b[1;32m   (...)\u001b[0m\n\u001b[0;32m    930\u001b[0m \u001b[38;5;124;03m    'content-encoding' header.\u001b[39;00m\n\u001b[0;32m    931\u001b[0m \u001b[38;5;124;03m\"\"\"\u001b[39;00m\n\u001b[0;32m    932\u001b[0m \u001b[38;5;28;01mif\u001b[39;00m \u001b[38;5;28mself\u001b[39m\u001b[38;5;241m.\u001b[39mchunked \u001b[38;5;129;01mand\u001b[39;00m \u001b[38;5;28mself\u001b[39m\u001b[38;5;241m.\u001b[39msupports_chunked_reads():\n\u001b[1;32m--> 933\u001b[0m     \u001b[38;5;28;01myield from\u001b[39;00m \u001b[38;5;28mself\u001b[39m\u001b[38;5;241m.\u001b[39mread_chunked(amt, decode_content\u001b[38;5;241m=\u001b[39mdecode_content)\n\u001b[0;32m    934\u001b[0m \u001b[38;5;28;01melse\u001b[39;00m:\n\u001b[0;32m    935\u001b[0m     \u001b[38;5;28;01mwhile\u001b[39;00m \u001b[38;5;129;01mnot\u001b[39;00m is_fp_closed(\u001b[38;5;28mself\u001b[39m\u001b[38;5;241m.\u001b[39m_fp) \u001b[38;5;129;01mor\u001b[39;00m \u001b[38;5;28mlen\u001b[39m(\u001b[38;5;28mself\u001b[39m\u001b[38;5;241m.\u001b[39m_decoded_buffer) \u001b[38;5;241m>\u001b[39m \u001b[38;5;241m0\u001b[39m:\n",
      "File \u001b[1;32mc:\\Users\\monon\\anaconda3\\Lib\\site-packages\\urllib3\\response.py:1073\u001b[0m, in \u001b[0;36mHTTPResponse.read_chunked\u001b[1;34m(self, amt, decode_content)\u001b[0m\n\u001b[0;32m   1070\u001b[0m     \u001b[38;5;28;01mreturn\u001b[39;00m \u001b[38;5;28;01mNone\u001b[39;00m\n\u001b[0;32m   1072\u001b[0m \u001b[38;5;28;01mwhile\u001b[39;00m \u001b[38;5;28;01mTrue\u001b[39;00m:\n\u001b[1;32m-> 1073\u001b[0m     \u001b[38;5;28mself\u001b[39m\u001b[38;5;241m.\u001b[39m_update_chunk_length()\n\u001b[0;32m   1074\u001b[0m     \u001b[38;5;28;01mif\u001b[39;00m \u001b[38;5;28mself\u001b[39m\u001b[38;5;241m.\u001b[39mchunk_left \u001b[38;5;241m==\u001b[39m \u001b[38;5;241m0\u001b[39m:\n\u001b[0;32m   1075\u001b[0m         \u001b[38;5;28;01mbreak\u001b[39;00m\n",
      "File \u001b[1;32mc:\\Users\\monon\\anaconda3\\Lib\\site-packages\\urllib3\\response.py:1001\u001b[0m, in \u001b[0;36mHTTPResponse._update_chunk_length\u001b[1;34m(self)\u001b[0m\n\u001b[0;32m    999\u001b[0m \u001b[38;5;28;01mif\u001b[39;00m \u001b[38;5;28mself\u001b[39m\u001b[38;5;241m.\u001b[39mchunk_left \u001b[38;5;129;01mis\u001b[39;00m \u001b[38;5;129;01mnot\u001b[39;00m \u001b[38;5;28;01mNone\u001b[39;00m:\n\u001b[0;32m   1000\u001b[0m     \u001b[38;5;28;01mreturn\u001b[39;00m \u001b[38;5;28;01mNone\u001b[39;00m\n\u001b[1;32m-> 1001\u001b[0m line \u001b[38;5;241m=\u001b[39m \u001b[38;5;28mself\u001b[39m\u001b[38;5;241m.\u001b[39m_fp\u001b[38;5;241m.\u001b[39mfp\u001b[38;5;241m.\u001b[39mreadline()  \u001b[38;5;66;03m# type: ignore[union-attr]\u001b[39;00m\n\u001b[0;32m   1002\u001b[0m line \u001b[38;5;241m=\u001b[39m line\u001b[38;5;241m.\u001b[39msplit(\u001b[38;5;124mb\u001b[39m\u001b[38;5;124m\"\u001b[39m\u001b[38;5;124m;\u001b[39m\u001b[38;5;124m\"\u001b[39m, \u001b[38;5;241m1\u001b[39m)[\u001b[38;5;241m0\u001b[39m]\n\u001b[0;32m   1003\u001b[0m \u001b[38;5;28;01mtry\u001b[39;00m:\n",
      "File \u001b[1;32mc:\\Users\\monon\\anaconda3\\Lib\\socket.py:706\u001b[0m, in \u001b[0;36mSocketIO.readinto\u001b[1;34m(self, b)\u001b[0m\n\u001b[0;32m    704\u001b[0m \u001b[38;5;28;01mwhile\u001b[39;00m \u001b[38;5;28;01mTrue\u001b[39;00m:\n\u001b[0;32m    705\u001b[0m     \u001b[38;5;28;01mtry\u001b[39;00m:\n\u001b[1;32m--> 706\u001b[0m         \u001b[38;5;28;01mreturn\u001b[39;00m \u001b[38;5;28mself\u001b[39m\u001b[38;5;241m.\u001b[39m_sock\u001b[38;5;241m.\u001b[39mrecv_into(b)\n\u001b[0;32m    707\u001b[0m     \u001b[38;5;28;01mexcept\u001b[39;00m timeout:\n\u001b[0;32m    708\u001b[0m         \u001b[38;5;28mself\u001b[39m\u001b[38;5;241m.\u001b[39m_timeout_occurred \u001b[38;5;241m=\u001b[39m \u001b[38;5;28;01mTrue\u001b[39;00m\n",
      "File \u001b[1;32mc:\\Users\\monon\\anaconda3\\Lib\\ssl.py:1315\u001b[0m, in \u001b[0;36mSSLSocket.recv_into\u001b[1;34m(self, buffer, nbytes, flags)\u001b[0m\n\u001b[0;32m   1311\u001b[0m     \u001b[38;5;28;01mif\u001b[39;00m flags \u001b[38;5;241m!=\u001b[39m \u001b[38;5;241m0\u001b[39m:\n\u001b[0;32m   1312\u001b[0m         \u001b[38;5;28;01mraise\u001b[39;00m \u001b[38;5;167;01mValueError\u001b[39;00m(\n\u001b[0;32m   1313\u001b[0m           \u001b[38;5;124m\"\u001b[39m\u001b[38;5;124mnon-zero flags not allowed in calls to recv_into() on \u001b[39m\u001b[38;5;132;01m%s\u001b[39;00m\u001b[38;5;124m\"\u001b[39m \u001b[38;5;241m%\u001b[39m\n\u001b[0;32m   1314\u001b[0m           \u001b[38;5;28mself\u001b[39m\u001b[38;5;241m.\u001b[39m\u001b[38;5;18m__class__\u001b[39m)\n\u001b[1;32m-> 1315\u001b[0m     \u001b[38;5;28;01mreturn\u001b[39;00m \u001b[38;5;28mself\u001b[39m\u001b[38;5;241m.\u001b[39mread(nbytes, buffer)\n\u001b[0;32m   1316\u001b[0m \u001b[38;5;28;01melse\u001b[39;00m:\n\u001b[0;32m   1317\u001b[0m     \u001b[38;5;28;01mreturn\u001b[39;00m \u001b[38;5;28msuper\u001b[39m()\u001b[38;5;241m.\u001b[39mrecv_into(buffer, nbytes, flags)\n",
      "File \u001b[1;32mc:\\Users\\monon\\anaconda3\\Lib\\ssl.py:1167\u001b[0m, in \u001b[0;36mSSLSocket.read\u001b[1;34m(self, len, buffer)\u001b[0m\n\u001b[0;32m   1165\u001b[0m \u001b[38;5;28;01mtry\u001b[39;00m:\n\u001b[0;32m   1166\u001b[0m     \u001b[38;5;28;01mif\u001b[39;00m buffer \u001b[38;5;129;01mis\u001b[39;00m \u001b[38;5;129;01mnot\u001b[39;00m \u001b[38;5;28;01mNone\u001b[39;00m:\n\u001b[1;32m-> 1167\u001b[0m         \u001b[38;5;28;01mreturn\u001b[39;00m \u001b[38;5;28mself\u001b[39m\u001b[38;5;241m.\u001b[39m_sslobj\u001b[38;5;241m.\u001b[39mread(\u001b[38;5;28mlen\u001b[39m, buffer)\n\u001b[0;32m   1168\u001b[0m     \u001b[38;5;28;01melse\u001b[39;00m:\n\u001b[0;32m   1169\u001b[0m         \u001b[38;5;28;01mreturn\u001b[39;00m \u001b[38;5;28mself\u001b[39m\u001b[38;5;241m.\u001b[39m_sslobj\u001b[38;5;241m.\u001b[39mread(\u001b[38;5;28mlen\u001b[39m)\n",
      "\u001b[1;31mKeyboardInterrupt\u001b[0m: "
     ]
    }
   ],
   "source": [
    "api_url=\"https://app.netpdv.com:5566/api/relatorios/ListaTransacoes\"\n",
    "\n",
    "\n",
    "#deixar setado para inicio às 12hrs e fim às 06hrs do dia seguinte\n",
    "#data início sempre deve ser igual à data fim. O código pega as 12hrs da data início e vai até as 06hrs do dia seguinte\n",
    "data_inicio=\"2023-07-15\"\n",
    "data_fim=\"2023-07-15\"\n",
    "\n",
    "horario_inicio = \"12:00:00\"\n",
    "horario_fim=\"13:00:00\"\n",
    "\n",
    "\n",
    "\n",
    "\n",
    "#Definir a Dataframe de produtos (df_produtos)\n",
    "df_produtos=pd.DataFrame()\n",
    "\n",
    "#Loop para pegar as transações (Preciso adicionar um for loop antes para cada evento)\n",
    "#ATENÇÃO: Talvez seja necessário gerar outro token\n",
    "while horario_fim!=\"07:00:00\":\n",
    "\n",
    "    body={\n",
    "        \"data_inicio\":data_inicio+\" \"+horario_inicio,\n",
    "        \"data_fim\":data_fim+\" \"+horario_fim,\n",
    "    }\n",
    "\n",
    "\n",
    "    headers = {\n",
    "        \"token_acesso\":token\n",
    "    }\n",
    "\n",
    "    print(horario_fim)\n",
    "\n",
    "    ##############################################################\n",
    "    #Atualizando os horários para o próximo loop\n",
    "    horario_inicio=pd.to_datetime(horario_inicio, format='%H:%M:%S')\n",
    "    horario_inicio +=timedelta(hours=1)\n",
    "    horario_inicio=horario_inicio.strftime('%H:%M:%S')\n",
    "\n",
    "    horario_fim=pd.to_datetime(horario_fim, format='%H:%M:%S')\n",
    "    horario_fim +=timedelta(hours=1)\n",
    "    horario_fim=horario_fim.strftime('%H:%M:%S')\n",
    "\n",
    "\n",
    "\n",
    "    if horario_fim==\"00:00:00\":\n",
    "        data_fim=pd.to_datetime(data_fim, format='%Y-%m-%d')\n",
    "        data_fim += timedelta(days=1)\n",
    "        data_fim=data_fim.strftime('%Y-%m-%d')\n",
    "\n",
    "    if horario_inicio==\"00:00:00\":\n",
    "        data_inicio=pd.to_datetime(data_inicio, format='%Y-%m-%d')\n",
    "        data_inicio += timedelta(days=1)\n",
    "        data_inicio=data_inicio.strftime('%Y-%m-%d')\n",
    "\n",
    "    #############################################\n",
    "\n",
    "\n",
    "\n",
    "    time.sleep(5)\n",
    "\n",
    "    response_transacoes = requests.post(api_url, headers=headers, json=body)\n",
    "    transacoes_json=response_transacoes.json()\n",
    "\n",
    "\n",
    "\n",
    "    produtos = transacoes_json[\"dados\"][\"transacoes\"]\n",
    "    df_temp=pd.DataFrame()\n",
    "\n",
    "    for produto in produtos:\n",
    "        produto_df=pd.DataFrame(produto)\n",
    "        infos_adicionais=produto_df[[\"codigo_evento\",\"nome_evento\",\"data_hora_realizacao\",\"documento_cliente\"]]\n",
    "        caracteristicas=produto[\"produtos\"]\n",
    "        temporario=pd.DataFrame(caracteristicas)\n",
    "        temporario=pd.concat([temporario,infos_adicionais], axis=1)\n",
    "        df_temp=pd.concat([df_temp,temporario], ignore_index=True)\n",
    "\n",
    "    df_produtos=pd.concat([df_produtos,df_temp], ignore_index=True)\n",
    "\n",
    "\n",
    "    df_produtos[\"data_hora_realizacao\"]=pd.to_datetime(df_produtos[\"data_hora_realizacao\"])\n",
    "\n",
    "\n",
    "\n",
    "\n",
    "\n",
    "\n",
    "df_produtos\n"
   ]
  },
  {
   "cell_type": "code",
   "execution_count": null,
   "metadata": {},
   "outputs": [],
   "source": []
  }
 ],
 "metadata": {
  "kernelspec": {
   "display_name": "base",
   "language": "python",
   "name": "python3"
  },
  "language_info": {
   "codemirror_mode": {
    "name": "ipython",
    "version": 3
   },
   "file_extension": ".py",
   "mimetype": "text/x-python",
   "name": "python",
   "nbconvert_exporter": "python",
   "pygments_lexer": "ipython3",
   "version": "3.11.7"
  }
 },
 "nbformat": 4,
 "nbformat_minor": 2
}
