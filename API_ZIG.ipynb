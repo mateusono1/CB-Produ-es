{
 "cells": [
  {
   "cell_type": "code",
   "execution_count": 40,
   "metadata": {},
   "outputs": [],
   "source": [
    "import pandas as pd\n",
    "import requests\n",
    "import json"
   ]
  },
  {
   "cell_type": "code",
   "execution_count": 41,
   "metadata": {},
   "outputs": [
    {
     "data": {
      "text/plain": [
       "\" \\nurl = 'https://api.zigcore.com.br/integration' \\nreq = requests.get(url)\\n\\nreq=req.json()\\n\\nprint(req)\\n\\n \""
      ]
     },
     "execution_count": 41,
     "metadata": {},
     "output_type": "execute_result"
    }
   ],
   "source": [
    "\"\"\" \n",
    "url = 'https://api.zigcore.com.br/integration' \n",
    "req = requests.get(url)\n",
    "\n",
    "req=req.json()\n",
    "\n",
    "print(req)\n",
    "\n",
    " \"\"\""
   ]
  },
  {
   "cell_type": "code",
   "execution_count": 42,
   "metadata": {},
   "outputs": [
    {
     "name": "stdout",
     "output_type": "stream",
     "text": [
      "Status Code: 200\n",
      "Resposta JSON completa:\n",
      "{'ok': True}\n"
     ]
    }
   ],
   "source": [
    "import requests\n",
    "\n",
    "url = 'https://api.zigcore.com.br/integration'\n",
    "response = requests.get(url)\n",
    "\n",
    "# Verificar o status da resposta\n",
    "print(f\"Status Code: {response.status_code}\")\n",
    "\n",
    "# Verificar o conteúdo da resposta\n",
    "try:\n",
    "    response_json = response.json()\n",
    "    print(\"Resposta JSON completa:\")\n",
    "    print(response_json)\n",
    "except ValueError:\n",
    "    print(\"A resposta não é um JSON válido.\")"
   ]
  }
 ],
 "metadata": {
  "kernelspec": {
   "display_name": "base",
   "language": "python",
   "name": "python3"
  },
  "language_info": {
   "codemirror_mode": {
    "name": "ipython",
    "version": 3
   },
   "file_extension": ".py",
   "mimetype": "text/x-python",
   "name": "python",
   "nbconvert_exporter": "python",
   "pygments_lexer": "ipython3",
   "version": "3.11.5"
  }
 },
 "nbformat": 4,
 "nbformat_minor": 2
}
