{
 "cells": [
  {
   "cell_type": "code",
   "execution_count": 1,
   "metadata": {},
   "outputs": [],
   "source": [
    "import pandas as pd\n",
    "import requests\n",
    "import json\n",
    "import matplotlib.pyplot as plt\n",
    "import seaborn as sns\n",
    "import numpy as np\n",
    "import time"
   ]
  },
  {
   "cell_type": "code",
   "execution_count": 2,
   "metadata": {},
   "outputs": [],
   "source": [
    "pd.set_option('display.max_columns', None)"
   ]
  },
  {
   "cell_type": "code",
   "execution_count": 3,
   "metadata": {},
   "outputs": [
    {
     "data": {
      "text/plain": [
       "' import requests\\n\\n# Your API credentials and URL\\napi_url = \"https://api.zigcore.com.br/integration\"\\ntoken = \"hlqFYMUrmLX9NGTd07jC5ZjxLRKsOfqh\"\\n\\n# Define headers for the request\\nheaders = {\\n    \"Authorization\": f\"{token}\",\\n    \"Content-Type\": \"application/json\"\\n}\\n\\n# Making a GET request to the API to verify login\\nresponse = requests.get(api_url, headers=headers)\\n\\n# Checking the response status code and the response data\\nif response.status_code == 200:\\n    print(\"Login successful!\")\\n    print(response.json())  # Print response data which may include more details\\nelse:\\n    print(f\"Login failed with status code {response.status_code}\")\\n    print(response.text)  # Print the error response '"
      ]
     },
     "execution_count": 3,
     "metadata": {},
     "output_type": "execute_result"
    }
   ],
   "source": [
    "\"\"\" import requests\n",
    "\n",
    "# Your API credentials and URL\n",
    "api_url = \"https://api.zigcore.com.br/integration\"\n",
    "token = \"hlqFYMUrmLX9NGTd07jC5ZjxLRKsOfqh\"\n",
    "\n",
    "# Define headers for the request\n",
    "headers = {\n",
    "    \"Authorization\": f\"{token}\",\n",
    "    \"Content-Type\": \"application/json\"\n",
    "}\n",
    "\n",
    "# Making a GET request to the API to verify login\n",
    "response = requests.get(api_url, headers=headers)\n",
    "\n",
    "# Checking the response status code and the response data\n",
    "if response.status_code == 200:\n",
    "    print(\"Login successful!\")\n",
    "    print(response.json())  # Print response data which may include more details\n",
    "else:\n",
    "    print(f\"Login failed with status code {response.status_code}\")\n",
    "    print(response.text)  # Print the error response \"\"\""
   ]
  },
  {
   "cell_type": "code",
   "execution_count": 4,
   "metadata": {},
   "outputs": [
    {
     "data": {
      "text/plain": [
       "' # Tardezinha\\nimport requests\\n\\napi_url = \"https://api.zigcore.com.br/integration\"\\nrede = \"6385fff0-2ef9-421e-a0d8-497223f639e8\"\\ntoken = \"wAfg8jrWPnpEjG6qTPo3EjAzyuTjhrMB\"\\n\\n\\nheaders = {\\n    \"Authorization\": f\"{token}\"\\n}\\n\\n\\nresponse = requests.get(f\"{api_url}/erp/lojas?rede={rede}\", headers=headers)\\n\\nprint(f\"{api_url}?rede={rede}\")\\n\\n# Check response\\nif response.status_code == 200:\\n    stores = response.json()  \\n    print(\"Stores:\", stores)\\nelse:\\n    print(\"Failed to fetch stores:\", response.status_code, response.text) '"
      ]
     },
     "execution_count": 4,
     "metadata": {},
     "output_type": "execute_result"
    }
   ],
   "source": [
    "\"\"\" # Tardezinha\n",
    "import requests\n",
    "\n",
    "api_url = \"https://api.zigcore.com.br/integration\"\n",
    "rede = \"6385fff0-2ef9-421e-a0d8-497223f639e8\"\n",
    "token = \"wAfg8jrWPnpEjG6qTPo3EjAzyuTjhrMB\"\n",
    "\n",
    "\n",
    "headers = {\n",
    "    \"Authorization\": f\"{token}\"\n",
    "}\n",
    "\n",
    "\n",
    "response = requests.get(f\"{api_url}/erp/lojas?rede={rede}\", headers=headers)\n",
    "\n",
    "print(f\"{api_url}?rede={rede}\")\n",
    "\n",
    "# Check response\n",
    "if response.status_code == 200:\n",
    "    stores = response.json()  \n",
    "    print(\"Stores:\", stores)\n",
    "else:\n",
    "    print(\"Failed to fetch stores:\", response.status_code, response.text) \"\"\""
   ]
  },
  {
   "cell_type": "code",
   "execution_count": 5,
   "metadata": {},
   "outputs": [
    {
     "data": {
      "text/plain": [
       "' \\n# Tardezinha Ribeirão Preto 2 de dezembro de 2023\\n\\n\\n\\n\\n\\n\\napi_url = \"https://api.zigcore.com.br/integration/erp/saida-produtos\"\\ntoken = \"wAfg8jrWPnpEjG6qTPo3EjAzyuTjhrMB\" #Token novo. Funcionou para puxar as lojas\\n\\nparams = {\\n    \\'dtinicio\\': \\'2023-12-01\\',\\n    \\'dtfim\\': \\'2023-12-10\\',\\n    \\'loja\\': \\'a08c4832-1e70-435b-ad01-6a4d41dc5785\\', #ID da Tardezinha RBP 2023\\n    \\'refund\\': \\'false\\'\\n}\\n\\n\\nheaders = {\\n    \"Authorization\": f\"{token}\",\\n    \"Content-Type\": \"application/json\"\\n}\\n\\n\\nresponse = requests.get(api_url, headers=headers, params=params)\\n\\n#df=pd.DataFrame(response.json())\\nresponse.json() '"
      ]
     },
     "execution_count": 5,
     "metadata": {},
     "output_type": "execute_result"
    }
   ],
   "source": [
    "\"\"\" \n",
    "# Tardezinha Ribeirão Preto 2 de dezembro de 2023\n",
    "\n",
    "\n",
    "\n",
    "\n",
    "\n",
    "\n",
    "api_url = \"https://api.zigcore.com.br/integration/erp/saida-produtos\"\n",
    "token = \"wAfg8jrWPnpEjG6qTPo3EjAzyuTjhrMB\" #Token novo. Funcionou para puxar as lojas\n",
    "\n",
    "params = {\n",
    "    'dtinicio': '2023-12-01',\n",
    "    'dtfim': '2023-12-10',\n",
    "    'loja': 'a08c4832-1e70-435b-ad01-6a4d41dc5785', #ID da Tardezinha RBP 2023\n",
    "    'refund': 'false'\n",
    "}\n",
    "\n",
    "\n",
    "headers = {\n",
    "    \"Authorization\": f\"{token}\",\n",
    "    \"Content-Type\": \"application/json\"\n",
    "}\n",
    "\n",
    "\n",
    "response = requests.get(api_url, headers=headers, params=params)\n",
    "\n",
    "#df=pd.DataFrame(response.json())\n",
    "response.json() \"\"\""
   ]
  },
  {
   "cell_type": "code",
   "execution_count": 6,
   "metadata": {},
   "outputs": [
    {
     "data": {
      "text/plain": [
       "' df=pd.DataFrame(response.json())\\ndf '"
      ]
     },
     "execution_count": 6,
     "metadata": {},
     "output_type": "execute_result"
    }
   ],
   "source": [
    "# tardezinha campinas - 15 de julho 2023\n",
    "\n",
    "\n",
    "\"\"\" \n",
    "start_date = '2024-07-15'\n",
    "end_date = '2024-07-15'\n",
    "\n",
    "\n",
    "api_url = \"https://api.zigcore.com.br/integration/erp/saida-produtos\"\n",
    "token = \"wAfg8jrWPnpEjG6qTPo3EjAzyuTjhrMB\"\n",
    "\n",
    "params = {\n",
    "    'dtinicio': start_date,\n",
    "    'dtfim': end_date,\n",
    "    'loja': 'c87690d5-c387-410c-b39c-feb680e63c94', #ID que já achamos\n",
    "    'refunded': 'false'\n",
    "}\n",
    "\n",
    "\n",
    "headers = {\n",
    "    \"Authorization\": f\"{token}\",\n",
    "    \"Content-Type\": \"application/json\"\n",
    "}\n",
    "\n",
    "\n",
    "response = requests.get(api_url, headers=headers, params=params) \"\"\"\n",
    "\"\"\" if response.status_code == 200:\n",
    "    print(f\"Data for {params['dtinicio']} to {params['dtfim']}:\", response.json())\n",
    "else:\n",
    "    print(f\"Failed for {params['dtinicio']} to {params['dtfim']}:\", response.status_code, response.text) \"\"\"\n",
    "\"\"\" df=pd.DataFrame(response.json())\n",
    "df \"\"\""
   ]
  },
  {
   "cell_type": "markdown",
   "metadata": {},
   "source": [
    "- - - "
   ]
  },
  {
   "cell_type": "markdown",
   "metadata": {},
   "source": [
    "# Outro Token\n"
   ]
  },
  {
   "cell_type": "code",
   "execution_count": 7,
   "metadata": {},
   "outputs": [
    {
     "data": {
      "text/plain": [
       "' import requests\\n\\napi_url = \"https://api.zigcore.com.br/integration\"\\nrede = \"152f5dc6-0f40-4668-880b-b8a8d51c4120\"\\ntoken = \"hlqFYMUrmLX9NGTd07jC5ZjxLRKsOfqh\"\\n\\n\\nheaders = {\\n    \"Authorization\": f\"{token}\"\\n}\\n\\n\\nresponse = requests.get(f\"{api_url}/erp/lojas?rede={rede}\", headers=headers)\\n\\nprint(f\"{api_url}?rede={rede}\")\\n\\n# Check response\\nif response.status_code == 200:\\n    stores = response.json()  \\n    print(\"Stores:\", stores)\\nelse:\\n    print(\"Failed to fetch stores:\", response.status_code, response.text) '"
      ]
     },
     "execution_count": 7,
     "metadata": {},
     "output_type": "execute_result"
    }
   ],
   "source": [
    "\"\"\" import requests\n",
    "\n",
    "api_url = \"https://api.zigcore.com.br/integration\"\n",
    "rede = \"152f5dc6-0f40-4668-880b-b8a8d51c4120\"\n",
    "token = \"hlqFYMUrmLX9NGTd07jC5ZjxLRKsOfqh\"\n",
    "\n",
    "\n",
    "headers = {\n",
    "    \"Authorization\": f\"{token}\"\n",
    "}\n",
    "\n",
    "\n",
    "response = requests.get(f\"{api_url}/erp/lojas?rede={rede}\", headers=headers)\n",
    "\n",
    "print(f\"{api_url}?rede={rede}\")\n",
    "\n",
    "# Check response\n",
    "if response.status_code == 200:\n",
    "    stores = response.json()  \n",
    "    print(\"Stores:\", stores)\n",
    "else:\n",
    "    print(\"Failed to fetch stores:\", response.status_code, response.text) \"\"\""
   ]
  },
  {
   "cell_type": "markdown",
   "metadata": {},
   "source": [
    "# Trapist"
   ]
  },
  {
   "cell_type": "code",
   "execution_count": 8,
   "metadata": {},
   "outputs": [
    {
     "data": {
      "text/plain": [
       "' todos_produtos=pd.DataFrame()\\ntodos_faturamentos=pd.DataFrame()\\ntodas_recargas=pd.DataFrame() '"
      ]
     },
     "execution_count": 8,
     "metadata": {},
     "output_type": "execute_result"
    }
   ],
   "source": [
    "\"\"\" todos_produtos=pd.DataFrame()\n",
    "todos_faturamentos=pd.DataFrame()\n",
    "todas_recargas=pd.DataFrame() \"\"\""
   ]
  },
  {
   "cell_type": "code",
   "execution_count": 9,
   "metadata": {},
   "outputs": [
    {
     "data": {
      "text/plain": [
       "' #Tardezinha 15 de Julho de 2023\\n#Trapist 9 de março de 2024\\n# SOweto 27 de Julho de 2024\\n\\n\\n\\nstart_date = \\'2024-03-08\\'\\nend_date = \\'2024-03-10\\'\\nid_loja=\\'3123a77b-2730-4b44-ab69-24bba879c56b\\'\\n\\n\\ntoken = \"hlqFYMUrmLX9NGTd07jC5ZjxLRKsOfqh\"\\n\\n\\n\\n\\n\\n\\n\\n#PRODUTOS\\n\\n\\napi_url = \"https://api.zigcore.com.br/integration/erp/saida-produtos\"\\n\\n\\nparams = {\\n    \\'dtinicio\\': start_date,\\n    \\'dtfim\\': end_date,\\n    \\'loja\\': id_loja, #ID que já achamos\\n    \\'refunded\\': \\'false\\'\\n}\\n\\n\\nheaders = {\\n    \"Authorization\": f\"{token}\",\\n    \"Content-Type\": \"application/json\"\\n}\\n\\n\\nresponse_produtos = requests.get(api_url, headers=headers, params=params)\\n\\nprodutos=pd.DataFrame(response_produtos.json())\\nprodutos= produtos[[\"transactionDate\",\"unitValue\",\"count\",\"productName\",\"productCategory\",\"eventName\",\"employeeName\"]]\\nprodutos=produtos.rename(columns={\"transactionDate\":\"Data e Hora\",\"unitValue\":\"Soma de price\",\"count\":\"Quantidade\",\"productName\":\"product_name\",\"eventName\":\"Evento\",\"employeeName\":\"PDV\"})\\n\\n#Criando coluna para avaliar as vendas durante o evento\\nprodutos[\"Data e Hora\"]=pd.to_datetime(produtos[\"Data e Hora\"])\\nprodutos[\"Hora\"]=produtos[\"Data e Hora\"].dt.strftime(\\'%Y-%m-%d %H\\')\\n\\n#Formatando a coluna de Soma de price\\nprodutos[\"Soma de price\"]=produtos[\"Soma de price\"]/100\\n\\ntodos_produtos=pd.concat([todos_produtos,produtos], ignore_index=True)\\n\\n\\n\\n\\n\\n#FATURAMENTO\\n\\napi_url = \"https://api.zigcore.com.br/integration/erp/faturamento\"\\n\\nparams = {\\n    \\'dtinicio\\': start_date,\\n    \\'dtfim\\': end_date,\\n    \\'loja\\': id_loja\\n}\\n\\n\\nheaders = {\\n    \"Authorization\": f\"{token}\",\\n    \"Content-Type\": \"application/json\"\\n}\\n\\n\\nresponse_faturamento = requests.get(api_url, headers=headers, params=params)\\n\\nfaturamento=pd.DataFrame(response_faturamento.json())\\nfaturamento=faturamento[[\"paymentName\",\"value\"]]\\n\\n\\n#Corrigindo os valores\\nfaturamento[\"value\"]=faturamento[\"value\"]/100\\n\\n\\ntodos_faturamentos=pd.concat([todos_faturamentos,faturamento], ignore_index=True)\\n\\n\\n\\n\\n#RECARGAS\\n\\napi_url = \"https://api.zigcore.com.br/integration/erp/recharges\"\\ntoken = \"hlqFYMUrmLX9NGTd07jC5ZjxLRKsOfqh\"\\n\\nparams = {\\n    \\'dtinicio\\': start_date,\\n    \\'dtfim\\': end_date,\\n    \\'loja\\': id_loja\\n}\\n\\n\\nheaders = {\\n    \"Authorization\": f\"{token}\",\\n    \"Content-Type\": \"application/json\"\\n}\\n\\n\\nresponse_recarga = requests.get(api_url, headers=headers, params=params)\\n\\nrecarga=pd.DataFrame(response_recarga.json())\\n\\nrecarga=recarga[[\"date\",\"author\",\"totalValue\",\"userDocument\",\"userDocumentType\",\"userName\"]]\\n\\n#Corrigindo os valores\\nrecarga[\"totalValue\"]= recarga[\"totalValue\"]/100\\n\\n#Valores das datas\\nrecarga[\"date\"]=pd.to_datetime(recarga[\"date\"])\\nrecarga[\"Dia + Hora\"]=recarga[\"date\"].dt.strftime(\\'%Y-%m-%d %H\\')\\n\\ntodas_recargas=pd.concat([todas_recargas,recarga], ignore_index=True)\\n\\n\\n\\n\\n '"
      ]
     },
     "execution_count": 9,
     "metadata": {},
     "output_type": "execute_result"
    }
   ],
   "source": [
    "\"\"\" #Tardezinha 15 de Julho de 2023\n",
    "#Trapist 9 de março de 2024\n",
    "# SOweto 27 de Julho de 2024\n",
    "\n",
    "\n",
    "\n",
    "start_date = '2024-03-08'\n",
    "end_date = '2024-03-10'\n",
    "id_loja='3123a77b-2730-4b44-ab69-24bba879c56b'\n",
    "\n",
    "\n",
    "token = \"hlqFYMUrmLX9NGTd07jC5ZjxLRKsOfqh\"\n",
    "\n",
    "\n",
    "\n",
    "\n",
    "\n",
    "\n",
    "\n",
    "#PRODUTOS\n",
    "\n",
    "\n",
    "api_url = \"https://api.zigcore.com.br/integration/erp/saida-produtos\"\n",
    "\n",
    "\n",
    "params = {\n",
    "    'dtinicio': start_date,\n",
    "    'dtfim': end_date,\n",
    "    'loja': id_loja, #ID que já achamos\n",
    "    'refunded': 'false'\n",
    "}\n",
    "\n",
    "\n",
    "headers = {\n",
    "    \"Authorization\": f\"{token}\",\n",
    "    \"Content-Type\": \"application/json\"\n",
    "}\n",
    "\n",
    "\n",
    "response_produtos = requests.get(api_url, headers=headers, params=params)\n",
    "\n",
    "produtos=pd.DataFrame(response_produtos.json())\n",
    "produtos= produtos[[\"transactionDate\",\"unitValue\",\"count\",\"productName\",\"productCategory\",\"eventName\",\"employeeName\"]]\n",
    "produtos=produtos.rename(columns={\"transactionDate\":\"Data e Hora\",\"unitValue\":\"Soma de price\",\"count\":\"Quantidade\",\"productName\":\"product_name\",\"eventName\":\"Evento\",\"employeeName\":\"PDV\"})\n",
    "\n",
    "#Criando coluna para avaliar as vendas durante o evento\n",
    "produtos[\"Data e Hora\"]=pd.to_datetime(produtos[\"Data e Hora\"])\n",
    "produtos[\"Hora\"]=produtos[\"Data e Hora\"].dt.strftime('%Y-%m-%d %H')\n",
    "\n",
    "#Formatando a coluna de Soma de price\n",
    "produtos[\"Soma de price\"]=produtos[\"Soma de price\"]/100\n",
    "\n",
    "todos_produtos=pd.concat([todos_produtos,produtos], ignore_index=True)\n",
    "\n",
    "\n",
    "\n",
    "\n",
    "\n",
    "#FATURAMENTO\n",
    "\n",
    "api_url = \"https://api.zigcore.com.br/integration/erp/faturamento\"\n",
    "\n",
    "params = {\n",
    "    'dtinicio': start_date,\n",
    "    'dtfim': end_date,\n",
    "    'loja': id_loja\n",
    "}\n",
    "\n",
    "\n",
    "headers = {\n",
    "    \"Authorization\": f\"{token}\",\n",
    "    \"Content-Type\": \"application/json\"\n",
    "}\n",
    "\n",
    "\n",
    "response_faturamento = requests.get(api_url, headers=headers, params=params)\n",
    "\n",
    "faturamento=pd.DataFrame(response_faturamento.json())\n",
    "faturamento=faturamento[[\"paymentName\",\"value\"]]\n",
    "\n",
    "\n",
    "#Corrigindo os valores\n",
    "faturamento[\"value\"]=faturamento[\"value\"]/100\n",
    "\n",
    "\n",
    "todos_faturamentos=pd.concat([todos_faturamentos,faturamento], ignore_index=True)\n",
    "\n",
    "\n",
    "\n",
    "\n",
    "#RECARGAS\n",
    "\n",
    "api_url = \"https://api.zigcore.com.br/integration/erp/recharges\"\n",
    "token = \"hlqFYMUrmLX9NGTd07jC5ZjxLRKsOfqh\"\n",
    "\n",
    "params = {\n",
    "    'dtinicio': start_date,\n",
    "    'dtfim': end_date,\n",
    "    'loja': id_loja\n",
    "}\n",
    "\n",
    "\n",
    "headers = {\n",
    "    \"Authorization\": f\"{token}\",\n",
    "    \"Content-Type\": \"application/json\"\n",
    "}\n",
    "\n",
    "\n",
    "response_recarga = requests.get(api_url, headers=headers, params=params)\n",
    "\n",
    "recarga=pd.DataFrame(response_recarga.json())\n",
    "\n",
    "recarga=recarga[[\"date\",\"author\",\"totalValue\",\"userDocument\",\"userDocumentType\",\"userName\"]]\n",
    "\n",
    "#Corrigindo os valores\n",
    "recarga[\"totalValue\"]= recarga[\"totalValue\"]/100\n",
    "\n",
    "#Valores das datas\n",
    "recarga[\"date\"]=pd.to_datetime(recarga[\"date\"])\n",
    "recarga[\"Dia + Hora\"]=recarga[\"date\"].dt.strftime('%Y-%m-%d %H')\n",
    "\n",
    "todas_recargas=pd.concat([todas_recargas,recarga], ignore_index=True)\n",
    "\n",
    "\n",
    "\n",
    "\n",
    " \"\"\""
   ]
  },
  {
   "cell_type": "code",
   "execution_count": 10,
   "metadata": {},
   "outputs": [
    {
     "data": {
      "text/plain": [
       "' todos_produtos\\n '"
      ]
     },
     "execution_count": 10,
     "metadata": {},
     "output_type": "execute_result"
    }
   ],
   "source": [
    "\"\"\" todos_produtos\n",
    " \"\"\""
   ]
  },
  {
   "cell_type": "code",
   "execution_count": 11,
   "metadata": {},
   "outputs": [
    {
     "data": {
      "text/plain": [
       "' todos_faturamentos '"
      ]
     },
     "execution_count": 11,
     "metadata": {},
     "output_type": "execute_result"
    }
   ],
   "source": [
    "\"\"\" todos_faturamentos \"\"\""
   ]
  },
  {
   "cell_type": "code",
   "execution_count": 12,
   "metadata": {},
   "outputs": [
    {
     "data": {
      "text/plain": [
       "' todas_recargas '"
      ]
     },
     "execution_count": 12,
     "metadata": {},
     "output_type": "execute_result"
    }
   ],
   "source": [
    "\"\"\" todas_recargas \"\"\""
   ]
  },
  {
   "cell_type": "markdown",
   "metadata": {},
   "source": [
    "- - - "
   ]
  },
  {
   "cell_type": "markdown",
   "metadata": {},
   "source": [
    "# Eventos que rodam em \"N\" (Tardezinhas e Soweto)"
   ]
  },
  {
   "cell_type": "code",
   "execution_count": 13,
   "metadata": {},
   "outputs": [],
   "source": [
    "import pandas as pd\n",
    "import requests\n",
    "import json\n",
    "import matplotlib.pyplot as plt\n",
    "import seaborn as sns\n",
    "import numpy as np\n",
    "import time\n",
    "from datetime import datetime, timedelta"
   ]
  },
  {
   "cell_type": "code",
   "execution_count": 14,
   "metadata": {},
   "outputs": [],
   "source": [
    "pd.set_option('display.max_columns', None)"
   ]
  },
  {
   "cell_type": "code",
   "execution_count": 15,
   "metadata": {},
   "outputs": [
    {
     "data": {
      "text/plain": [
       "'4bfb3be2-632d-483a-82d1-5432058d55eb'"
      ]
     },
     "execution_count": 15,
     "metadata": {},
     "output_type": "execute_result"
    }
   ],
   "source": [
    "#Geração do Token de acesso\n",
    "#Geração do Token de acesso\n",
    "\n",
    "\n",
    "#api_url = \"http://devapp.netpdv.info:5566/api/relatorios/GeraToken\"\n",
    "api_url= \"https://app.netpdv.com:5566/api/relatorios/GeraToken\"\n",
    "\n",
    "#tardezinha Campinas 15740\n",
    "#tardezinha RB  17990\n",
    "\n",
    "\n",
    "headers = {\n",
    "    \n",
    "    \"Content-Type\": \"text/plain\",\n",
    "    \"User-Agent\": \"PostmanRuntime/7.24.0\",\n",
    "    \"Accept\": \"*/*\",\n",
    "    \"Accept-Encoding\": \"gzip, deflate, br\",\n",
    "    \"Connection\": \"keep-alive\",\n",
    "    \"token_parceiro\": \"BCED47DAE6\",\n",
    "    \"Content-type\": \"application/json\"\n",
    "    \n",
    "\n",
    "}\n",
    "\n",
    "#Tardezinha Campinas\n",
    "body = {\n",
    "    'codigo_evento': 15740\n",
    "}\n",
    "\n",
    "\n",
    "\n",
    "\n",
    "response_token = requests.post(api_url, headers=headers, json=body)\n",
    "token_json=response_token.json()\n",
    "token=token_json['dados']['token_acesso']\n",
    "token\n",
    "\n"
   ]
  },
  {
   "cell_type": "markdown",
   "metadata": {},
   "source": [
    "{'codigo_retorno': 0,\n",
    " 'mensagem_erro': '',\n",
    " 'dados': {'token_acesso': 'string_de_acesso',\n",
    "  'data_expiracao': 'expira_em'}}"
   ]
  },
  {
   "cell_type": "code",
   "execution_count": 16,
   "metadata": {},
   "outputs": [
    {
     "name": "stdout",
     "output_type": "stream",
     "text": [
      "13:00:00\n",
      "14:00:00\n",
      "15:00:00\n",
      "16:00:00\n",
      "17:00:00\n",
      "18:00:00\n",
      "19:00:00\n",
      "20:00:00\n",
      "21:00:00\n",
      "22:00:00\n"
     ]
    },
    {
     "ename": "TypeError",
     "evalue": "'NoneType' object is not subscriptable",
     "output_type": "error",
     "traceback": [
      "\u001b[1;31m---------------------------------------------------------------------------\u001b[0m",
      "\u001b[1;31mTypeError\u001b[0m                                 Traceback (most recent call last)",
      "Cell \u001b[1;32mIn[16], line 67\u001b[0m\n\u001b[0;32m     62\u001b[0m response_transacoes \u001b[38;5;241m=\u001b[39m requests\u001b[38;5;241m.\u001b[39mpost(api_url, headers\u001b[38;5;241m=\u001b[39mheaders, json\u001b[38;5;241m=\u001b[39mbody)\n\u001b[0;32m     63\u001b[0m transacoes_json\u001b[38;5;241m=\u001b[39mresponse_transacoes\u001b[38;5;241m.\u001b[39mjson()\n\u001b[1;32m---> 67\u001b[0m produtos \u001b[38;5;241m=\u001b[39m transacoes_json[\u001b[38;5;124m\"\u001b[39m\u001b[38;5;124mdados\u001b[39m\u001b[38;5;124m\"\u001b[39m][\u001b[38;5;124m\"\u001b[39m\u001b[38;5;124mtransacoes\u001b[39m\u001b[38;5;124m\"\u001b[39m]\n\u001b[0;32m     68\u001b[0m df_temp\u001b[38;5;241m=\u001b[39mpd\u001b[38;5;241m.\u001b[39mDataFrame()\n\u001b[0;32m     70\u001b[0m \u001b[38;5;28;01mfor\u001b[39;00m produto \u001b[38;5;129;01min\u001b[39;00m produtos:\n",
      "\u001b[1;31mTypeError\u001b[0m: 'NoneType' object is not subscriptable"
     ]
    }
   ],
   "source": [
    "api_url=\"https://app.netpdv.com:5566/api/relatorios/ListaTransacoes\"\n",
    "\n",
    "\n",
    "#deixar setado para inicio às 12hrs e fim às 06hrs do dia seguinte\n",
    "#data início sempre deve ser igual à data fim. O código pega as 12hrs da data início e vai até as 06hrs do dia seguinte\n",
    "data_inicio=\"2023-07-15\"\n",
    "data_fim=\"2023-07-15\"\n",
    "\n",
    "horario_inicio = \"12:00:00\"\n",
    "horario_fim=\"13:00:00\"\n",
    "\n",
    "\n",
    "\n",
    "\n",
    "#Definir a Dataframe de produtos (df_produtos)\n",
    "df_produtos=pd.DataFrame()\n",
    "\n",
    "#Loop para pegar as transações (Preciso adicionar um for loop antes para cada evento)\n",
    "#ATENÇÃO: Talvez seja necessário gerar outro token\n",
    "while horario_fim!=\"07:00:00\":\n",
    "\n",
    "    body={\n",
    "        \"data_inicio\":data_inicio+\" \"+horario_inicio,\n",
    "        \"data_fim\":data_fim+\" \"+horario_fim,\n",
    "    }\n",
    "\n",
    "\n",
    "    headers = {\n",
    "        \"token_acesso\":token\n",
    "    }\n",
    "\n",
    "    print(horario_fim)\n",
    "\n",
    "    ##############################################################\n",
    "    #Atualizando os horários para o próximo loop\n",
    "    horario_inicio=pd.to_datetime(horario_inicio, format='%H:%M:%S')\n",
    "    horario_inicio +=timedelta(hours=1)\n",
    "    horario_inicio=horario_inicio.strftime('%H:%M:%S')\n",
    "\n",
    "    horario_fim=pd.to_datetime(horario_fim, format='%H:%M:%S')\n",
    "    horario_fim +=timedelta(hours=1)\n",
    "    horario_fim=horario_fim.strftime('%H:%M:%S')\n",
    "\n",
    "\n",
    "\n",
    "    if horario_fim==\"00:00:00\":\n",
    "        data_fim=pd.to_datetime(data_fim, format='%Y-%m-%d')\n",
    "        data_fim += timedelta(days=1)\n",
    "        data_fim=data_fim.strftime('%Y-%m-%d')\n",
    "\n",
    "    if horario_inicio==\"00:00:00\":\n",
    "        data_inicio=pd.to_datetime(data_inicio, format='%Y-%m-%d')\n",
    "        data_inicio += timedelta(days=1)\n",
    "        data_inicio=data_inicio.strftime('%Y-%m-%d')\n",
    "\n",
    "    #############################################\n",
    "\n",
    "\n",
    "\n",
    "    time.sleep(5)\n",
    "\n",
    "    response_transacoes = requests.post(api_url, headers=headers, json=body)\n",
    "    transacoes_json=response_transacoes.json()\n",
    "\n",
    "\n",
    "\n",
    "    produtos = transacoes_json[\"dados\"][\"transacoes\"]\n",
    "    df_temp=pd.DataFrame()\n",
    "\n",
    "    for produto in produtos:\n",
    "        produto_df=pd.DataFrame(produto)\n",
    "        infos_adicionais=produto_df[[\"codigo_evento\",\"nome_evento\",\"data_hora_realizacao\",\"documento_cliente\"]]\n",
    "        caracteristicas=produto[\"produtos\"]\n",
    "        temporario=pd.DataFrame(caracteristicas)\n",
    "        temporario=pd.concat([temporario,infos_adicionais], axis=1)\n",
    "        df_temp=pd.concat([df_temp,temporario], ignore_index=True)\n",
    "\n",
    "    df_produtos=pd.concat([df_produtos,df_temp], ignore_index=True)\n",
    "\n",
    "\n",
    "    df_produtos[\"data_hora_realizacao\"]=pd.to_datetime(df_produtos[\"data_hora_realizacao\"])\n",
    "\n",
    "\n",
    "\n",
    "\n",
    "\n",
    "\n",
    "df_produtos\n"
   ]
  },
  {
   "cell_type": "code",
   "execution_count": null,
   "metadata": {},
   "outputs": [],
   "source": []
  }
 ],
 "metadata": {
  "kernelspec": {
   "display_name": "base",
   "language": "python",
   "name": "python3"
  },
  "language_info": {
   "codemirror_mode": {
    "name": "ipython",
    "version": 3
   },
   "file_extension": ".py",
   "mimetype": "text/x-python",
   "name": "python",
   "nbconvert_exporter": "python",
   "pygments_lexer": "ipython3",
   "version": "3.11.7"
  }
 },
 "nbformat": 4,
 "nbformat_minor": 2
}
