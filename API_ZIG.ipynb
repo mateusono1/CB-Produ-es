{
 "cells": [
  {
   "cell_type": "code",
   "execution_count": 1,
   "metadata": {},
   "outputs": [],
   "source": [
    "import pandas as pd\n",
    "import requests\n",
    "import json"
   ]
  },
  {
   "cell_type": "code",
   "execution_count": 2,
   "metadata": {},
   "outputs": [
    {
     "name": "stdout",
     "output_type": "stream",
     "text": [
      "Erro: 400 - {\"message\":\"Token inválido\",\"type\":\"InvalidToken\"}\n"
     ]
    }
   ],
   "source": [
    "\n",
    "# Defina a URL base do seu endpoint\n",
    "url = \"https://api.zigcore.com.br/integration/erp/lojas\"\n",
    "\n",
    "# Substitua esses valores pelos reais\n",
    "token_de_autenticacao = \"hlqFYMUrmLX9NGTd07jC5ZjxLRKsOfqh\"\n",
    "rede = \"152f5dc6-0f40-4668-880b-b8a8d51c4120\"\n",
    "\n",
    "# Configurando o cabeçalho da requisição\n",
    "headers = {\n",
    "    \"Authorization\": f\"Bearer {token_de_autenticacao}\",\n",
    "    \"Content-Type\": \"application/json\"  # Dependendo da API, esse cabeçalho pode variar\n",
    "}\n",
    "\n",
    "# Fazendo a requisição GET com o parâmetro `rede`\n",
    "response = requests.get(url, headers=headers, params={\"rede\": rede})\n",
    "\n",
    "# Verificando se a requisição foi bem-sucedida\n",
    "if response.status_code == 200:\n",
    "    lojas = response.json()  # Assumindo que a resposta esteja em JSON\n",
    "    print(lojas)  # Aqui você pode trabalhar com os dados recebidos\n",
    "else:\n",
    "    print(f\"Erro: {response.status_code} - {response.text}\")\n"
   ]
  }
 ],
 "metadata": {
  "kernelspec": {
   "display_name": "base",
   "language": "python",
   "name": "python3"
  },
  "language_info": {
   "codemirror_mode": {
    "name": "ipython",
    "version": 3
   },
   "file_extension": ".py",
   "mimetype": "text/x-python",
   "name": "python",
   "nbconvert_exporter": "python",
   "pygments_lexer": "ipython3",
   "version": "3.11.7"
  }
 },
 "nbformat": 4,
 "nbformat_minor": 2
}
