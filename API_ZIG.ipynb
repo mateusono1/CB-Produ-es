{
 "cells": [
  {
   "cell_type": "code",
   "execution_count": 2,
   "metadata": {},
   "outputs": [],
   "source": [
    "import pandas as pd\n",
    "import requests\n",
    "import json"
   ]
  },
  {
   "cell_type": "code",
   "execution_count": 3,
   "metadata": {},
   "outputs": [
    {
     "name": "stdout",
     "output_type": "stream",
     "text": [
      "Login successful!\n",
      "{'ok': True}\n"
     ]
    }
   ],
   "source": [
    "import requests\n",
    "\n",
    "# Your API credentials and URL\n",
    "api_url = \"https://api.zigcore.com.br/integration\"\n",
    "token = \"hlqFYMUrmLX9NGTd07jC5ZjxLRKsOfqh\"\n",
    "\n",
    "# Define headers for the request\n",
    "headers = {\n",
    "    \"Authorization\": f\"{token}\",\n",
    "    \"Content-Type\": \"application/json\"\n",
    "}\n",
    "\n",
    "# Making a GET request to the API to verify login\n",
    "response = requests.get(api_url, headers=headers)\n",
    "\n",
    "# Checking the response status code and the response data\n",
    "if response.status_code == 200:\n",
    "    print(\"Login successful!\")\n",
    "    print(response.json())  # Print response data which may include more details\n",
    "else:\n",
    "    print(f\"Login failed with status code {response.status_code}\")\n",
    "    print(response.text)  # Print the error response"
   ]
  },
  {
   "cell_type": "code",
   "execution_count": 4,
   "metadata": {},
   "outputs": [
    {
     "name": "stdout",
     "output_type": "stream",
     "text": [
      "https://api.zigcore.com.br/integration?rede=152f5dc6-0f40-4668-880b-b8a8d51c4120\n",
      "Stores: [{'id': 'aaaf572e-220e-4d28-b092-33074e12b1a5', 'name': 'CB PRODUCOES 2024'}, {'id': 'aa34a77f-457e-468a-96cc-905fa1ab0399', 'name': '21031 -- SOWETO JUL24'}, {'id': 'e0c64202-39e7-472a-b593-8fa433213695', 'name': 'SOWETO JUL24'}, {'id': '3123a77b-2730-4b44-ab69-24bba879c56b', 'name': 'TRAPIST 2024'}]\n"
     ]
    }
   ],
   "source": [
    "import requests\n",
    "\n",
    "# API credentials and URL\n",
    "api_url = \"https://api.zigcore.com.br/integration\"\n",
    "rede = \"152f5dc6-0f40-4668-880b-b8a8d51c4120\"\n",
    "token = \"hlqFYMUrmLX9NGTd07jC5ZjxLRKsOfqh\"\n",
    "\n",
    "# Headers with authorization\n",
    "headers = {\n",
    "    \"Authorization\": f\"{token}\"\n",
    "}\n",
    "\n",
    "# Make a GET request to fetch list of stores\n",
    "response = requests.get(f\"{api_url}/erp/lojas?rede={rede}\", headers=headers)\n",
    "\n",
    "print(f\"{api_url}?rede={rede}\")\n",
    "\n",
    "# Check response\n",
    "if response.status_code == 200:\n",
    "    stores = response.json()  # Parse the JSON response into a dictionary\n",
    "    print(\"Stores:\", stores)\n",
    "else:\n",
    "    print(\"Failed to fetch stores:\", response.status_code, response.text)"
   ]
  },
  {
   "cell_type": "code",
   "execution_count": 5,
   "metadata": {},
   "outputs": [
    {
     "data": {
      "text/plain": [
       "' import requests\\n\\napi_url = \"https://api.zigcore.com.br/integration/erp/saida-produtos?{dtinicio}&{dtfim}&{loja}&{refunded}\"\\ntoken = \"hlqFYMUrmLX9NGTd07jC5ZjxLRKsOfqh\"\\n\\nheaders = {\\n    \"Authorization\": f\"{token}\",\\n    \"Content-Type\": \"application/json\"\\n}\\n\\nimport datetime\\n\\ndef date_range(start, end, delta):\\n    current = start\\n    while current <= end:\\n        yield current\\n        current += delta\\n\\nstart_date = datetime.datetime.strptime(\\'2024-03-01\\', \\'%Y-%m-%d\\')\\nend_date = datetime.datetime.strptime(\\'2024-08-31\\', \\'%Y-%m-%d\\')\\ndelta = datetime.timedelta(days=5)\\n# Example request loop using generated date ranges\\nfor start_interval in date_range(start_date, end_date, delta):\\n    end_interval = start_interval + datetime.timedelta(days=4)\\n    if end_interval > end_date:\\n        end_interval = end_date\\n\\n    params = {\\n        \\'dtinicio\\': start_interval.strftime(\\'%Y-%m-%d\\'),\\n        \\'dtfim\\': end_interval.strftime(\\'%Y-%m-%d\\'),\\n        \\'loja\\': \\'3123a77b-2730-4b44-ab69-24bba879c56b\\',  # Replace with actual store ID\\n        \\'refund\\' : \\'false\\'\\n    }\\n\\n    response = requests.get(api_url, headers=headers, params=params)\\n    if response.status_code == 200:\\n        print(f\"Data for {params[\\'dtinicio\\']} to {params[\\'dtfim\\']}:\", response.json())\\n    else:\\n        print(f\"Failed for {params[\\'dtinicio\\']} to {params[\\'dtfim\\']}:\", response.status_code, response.text) '"
      ]
     },
     "execution_count": 5,
     "metadata": {},
     "output_type": "execute_result"
    }
   ],
   "source": [
    "\"\"\" import requests\n",
    "\n",
    "api_url = \"https://api.zigcore.com.br/integration/erp/saida-produtos?{dtinicio}&{dtfim}&{loja}&{refunded}\"\n",
    "token = \"hlqFYMUrmLX9NGTd07jC5ZjxLRKsOfqh\"\n",
    "\n",
    "headers = {\n",
    "    \"Authorization\": f\"{token}\",\n",
    "    \"Content-Type\": \"application/json\"\n",
    "}\n",
    "\n",
    "import datetime\n",
    "\n",
    "def date_range(start, end, delta):\n",
    "    current = start\n",
    "    while current <= end:\n",
    "        yield current\n",
    "        current += delta\n",
    "\n",
    "start_date = datetime.datetime.strptime('2024-03-01', '%Y-%m-%d')\n",
    "end_date = datetime.datetime.strptime('2024-08-31', '%Y-%m-%d')\n",
    "delta = datetime.timedelta(days=5)\n",
    "# Example request loop using generated date ranges\n",
    "for start_interval in date_range(start_date, end_date, delta):\n",
    "    end_interval = start_interval + datetime.timedelta(days=4)\n",
    "    if end_interval > end_date:\n",
    "        end_interval = end_date\n",
    "\n",
    "    params = {\n",
    "        'dtinicio': start_interval.strftime('%Y-%m-%d'),\n",
    "        'dtfim': end_interval.strftime('%Y-%m-%d'),\n",
    "        'loja': '3123a77b-2730-4b44-ab69-24bba879c56b',  # Replace with actual store ID\n",
    "        'refund' : 'false'\n",
    "    }\n",
    "\n",
    "    response = requests.get(api_url, headers=headers, params=params)\n",
    "    if response.status_code == 200:\n",
    "        print(f\"Data for {params['dtinicio']} to {params['dtfim']}:\", response.json())\n",
    "    else:\n",
    "        print(f\"Failed for {params['dtinicio']} to {params['dtfim']}:\", response.status_code, response.text) \"\"\""
   ]
  },
  {
   "cell_type": "code",
   "execution_count": 6,
   "metadata": {},
   "outputs": [
    {
     "data": {
      "text/plain": [
       "' import requests\\n\\napi_url = \"https://api.zigcore.com.br/integration/erp/saida-produtos\"\\nheaders = {\\n    \"Authorization\": \"hlqFYMUrmLX9NGTd07jC5ZjxLRKsOfqh\",\\n    \"Content-Type\": \"application/json\"\\n}\\n\\n# Attempt to make a request without \\'dtinicio\\' and \\'dtfim\\'\\nresponse = requests.get(api_url, headers=headers)\\n\\nif response.status_code == 200:\\n    print(\"Request successful, parameters may be optional:\", response.json())\\nelse:\\n    print(\"Failed to make request without dtinicio and dtfim:\", response.status_code, response.text) '"
      ]
     },
     "execution_count": 6,
     "metadata": {},
     "output_type": "execute_result"
    }
   ],
   "source": [
    "\"\"\" import requests\n",
    "\n",
    "api_url = \"https://api.zigcore.com.br/integration/erp/saida-produtos\"\n",
    "headers = {\n",
    "    \"Authorization\": \"hlqFYMUrmLX9NGTd07jC5ZjxLRKsOfqh\",\n",
    "    \"Content-Type\": \"application/json\"\n",
    "}\n",
    "\n",
    "# Attempt to make a request without 'dtinicio' and 'dtfim'\n",
    "response = requests.get(api_url, headers=headers)\n",
    "\n",
    "if response.status_code == 200:\n",
    "    print(\"Request successful, parameters may be optional:\", response.json())\n",
    "else:\n",
    "    print(\"Failed to make request without dtinicio and dtfim:\", response.status_code, response.text) \"\"\""
   ]
  },
  {
   "cell_type": "code",
   "execution_count": 25,
   "metadata": {},
   "outputs": [
    {
     "name": "stdout",
     "output_type": "stream",
     "text": [
      "Data for 2023-07-15 00:00:00 to 2023-07-16 00:00:00: []\n"
     ]
    }
   ],
   "source": [
    "import requests\n",
    "\n",
    "\n",
    "import datetime\n",
    "\n",
    "# Correcting the date format\n",
    "start_date = datetime.datetime.strptime('2023-07-15', '%Y-%m-%d')\n",
    "end_date = datetime.datetime.strptime('2023-07-16', '%Y-%m-%d')\n",
    "\n",
    "# API URL and token\n",
    "api_url = \"https://api.zigcore.com.br/integration/erp/saida-produtos\"\n",
    "token = \"hlqFYMUrmLX9NGTd07jC5ZjxLRKsOfqh\"\n",
    "\n",
    "params = {\n",
    "    'dtinicio': start_date,\n",
    "    'dtfim': end_date,\n",
    "    'loja': 'aaaf572e-220e-4d28-b092-33074e12b1a5',  # Replace with actual store ID\n",
    "    'refund': 'false'\n",
    "}\n",
    "\n",
    "\n",
    "# Headers with authorization\n",
    "headers = {\n",
    "    \"Authorization\": f\"{token}\",\n",
    "    \"Content-Type\": \"application/json\"\n",
    "}\n",
    "\n",
    "\n",
    "response = requests.get(api_url, headers=headers, params=params)\n",
    "if response.status_code == 200:\n",
    "    print(f\"Data for {params['dtinicio']} to {params['dtfim']}:\", response.json())\n",
    "else:\n",
    "    print(f\"Failed for {params['dtinicio']} to {params['dtfim']}:\", response.status_code, response.text)"
   ]
  },
  {
   "cell_type": "code",
   "execution_count": null,
   "metadata": {},
   "outputs": [],
   "source": []
  }
 ],
 "metadata": {
  "kernelspec": {
   "display_name": "base",
   "language": "python",
   "name": "python3"
  },
  "language_info": {
   "codemirror_mode": {
    "name": "ipython",
    "version": 3
   },
   "file_extension": ".py",
   "mimetype": "text/x-python",
   "name": "python",
   "nbconvert_exporter": "python",
   "pygments_lexer": "ipython3",
   "version": "3.11.7"
  }
 },
 "nbformat": 4,
 "nbformat_minor": 2
}
