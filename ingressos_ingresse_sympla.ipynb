{
 "cells": [
  {
   "cell_type": "code",
   "execution_count": 3,
   "metadata": {},
   "outputs": [],
   "source": [
    "import pandas as pd\n",
    "import numpy as np\n",
    "import requests\n"
   ]
  },
  {
   "cell_type": "code",
   "execution_count": 4,
   "metadata": {},
   "outputs": [],
   "source": [
    "sheet_url=\"https://docs.google.com/spreadsheets/d/1XrV3GlLDl7NgKH1s-P1PB7yA7ySS3KZRnrgQHIrbaus/edit?gid=612220265#gid=612220265\"\n",
    "\n",
    "sheet_id=\"1XrV3GlLDl7NgKH1s-P1PB7yA7ySS3KZRnrgQHIrbaus\"\n",
    "sheet_gid_sympla=\"612220265\"\n",
    "sheet_gid_ingresse=\"193979180\"\n",
    "\n",
    "\n",
    "sympla=pd.reas_csv(f\"https://docs.google.com/spreadsheets/d/{sheet_id}/export?format=csv&gid={sheet_gid_sympla}\")\n",
    "ingresse=pd.read_csv(f\"https://docs.google.com/spreadsheets/d/{sheet_id}/export?format=csv&gid={sheet_gid_ingresse}\")"
   ]
  },
  {
   "cell_type": "code",
   "execution_count": 5,
   "metadata": {},
   "outputs": [
    {
     "data": {
      "text/plain": [
       "<Response [401]>"
      ]
     },
     "execution_count": 5,
     "metadata": {},
     "output_type": "execute_result"
    }
   ],
   "source": [
    "sympla"
   ]
  },
  {
   "cell_type": "code",
   "execution_count": null,
   "metadata": {},
   "outputs": [],
   "source": []
  }
 ],
 "metadata": {
  "kernelspec": {
   "display_name": "base",
   "language": "python",
   "name": "python3"
  },
  "language_info": {
   "codemirror_mode": {
    "name": "ipython",
    "version": 3
   },
   "file_extension": ".py",
   "mimetype": "text/x-python",
   "name": "python",
   "nbconvert_exporter": "python",
   "pygments_lexer": "ipython3",
   "version": "3.11.7"
  }
 },
 "nbformat": 4,
 "nbformat_minor": 2
}
